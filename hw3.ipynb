{
 "cells": [
  {
   "cell_type": "markdown",
   "metadata": {},
   "source": [
    "## algorithm design and anlysis-2025 spring  homework 3\n",
    "**Deadline**：2025.5.14\n",
    "\n",
    "**name**:\n",
    "\n",
    "\n",
    "note：\n",
    "---\n",
    "1. 带有\\*的题目，申请免上课的同学，必须完成，其他同学选作；\n",
    "2. 请独立完成，如求助了他人或者大模型，请著明，并且不可省略算法分析部分；\n",
    "4. 如若作答有雷同，全部取消成绩；\n",
    "3. 需要书面作答的题目，可以通过引用图片的形式添加，但是注意上传项目时包含所引用的图片的源文件；\n",
    "4. $log_n$ 默认表示$log_2{n}$;"
   ]
  },
  {
   "cell_type": "markdown",
   "metadata": {},
   "source": [
    "## 问题 1  \n",
    "\n",
    "请证明基于比较的排序算法计算复杂度下界为$\\Omega(nlogn)$"
   ]
  },
  {
   "cell_type": "markdown",
   "metadata": {},
   "source": [
    "you can refer a handwritten picture, please upload the picture in /fig/xxx.png\n",
    "answer：<div><img src=\".\\fig\\hw3a1.png\"/></div>"
   ]
  },
  {
   "cell_type": "markdown",
   "metadata": {},
   "source": [
    "## 问题 2 \n",
    "\n",
    "构建二叉搜索树\n",
    "\n",
    "> 1. 给定一个数组 [48, 33, 49, 47, 42, 46, 32], 构建一个二叉搜索树存储这些数据，请**绘制**所构建的**二叉搜索树**（标明结点的值）。\n",
    "> 2. 从第1问的二叉搜索树中删除33，请**绘制**删除33后的**二叉搜索树**（标明结点的值）\n",
    "\n",
    "- 推荐使用graphviz包绘制树的结构"
   ]
  },
  {
   "cell_type": "markdown",
   "metadata": {},
   "source": [
    "you can refer a handwritten picture, pleas upload the picture in /fig/xxx.png\n",
    "answer：<div><img src=\".\\fig\\hw3a2.png\"/></div>"
   ]
  },
  {
   "cell_type": "markdown",
   "metadata": {},
   "source": [
    "## 问题 3 \n",
    "\n",
    "> 下面是九门课程的开始和结束时间:\n",
    ">\n",
    "> [(9:00,12:30), (11:00,14:00), (13:00, 14:30), (9:00,10:30),(13:00, 14:30),(14:00,16:30), (15:00,16:30), (15:00,16:30), (9:00,10:30)]\n",
    ">\n",
    "> 请使用贪婪算法为这九门课分配教室，要求在同一天内安排这些课，并且每个教室同一时间只能安排一门课。\n",
    "\n",
    "**请问最少需要几间教室，罗列出每个教室安排的课程**"
   ]
  },
  {
   "cell_type": "markdown",
   "metadata": {},
   "source": [
    "idea：\n",
    "1. 将所有课程按照开始的时间排序\n",
    "2. 创建一个优先队列，记录每个教室当前课程的结束时间\n",
    "3. 对每个课程，检查是否有教室的当前课程已结束：<br>如果有，则复用该教室<br>如果没有，则需要新开一个教室\n",
    "4. 最后堆的大小就是所需教室的最小数量"
   ]
  },
  {
   "cell_type": "code",
   "metadata": {
    "vscode": {
     "languageId": "plaintext"
    },
    "ExecuteTime": {
     "end_time": "2025-05-11T09:56:08.574631Z",
     "start_time": "2025-05-11T09:56:08.552515Z"
    }
   },
   "source": [
    "import heapq\n",
    "\n",
    "def min_meeting_rooms(meetings):\n",
    "    if not meetings:\n",
    "        return 0, []\n",
    "    \n",
    "    # 按会议开始时间排序\n",
    "    sorted_meetings = sorted(meetings, key=lambda m: m[0])\n",
    "    # 使用最小堆管理会议室，堆元素为（结束时间，会议室编号）\n",
    "    heap = []\n",
    "    # 每个会议室存储分配的会议列表\n",
    "    rooms = []\n",
    "    \n",
    "    for start, end in sorted_meetings:\n",
    "        # 检查最早结束的会议室是否可用\n",
    "        if heap and heap[0][0] <= start:\n",
    "            prev_end, room_id = heapq.heappop(heap)\n",
    "            rooms[room_id].append((start, end))\n",
    "            heapq.heappush(heap, (end, room_id))\n",
    "        else:\n",
    "            # 分配新会议室\n",
    "            room_id = len(rooms)\n",
    "            rooms.append([(start, end)])\n",
    "            heapq.heappush(heap, (end, room_id))\n",
    "    \n",
    "    return len(heap), rooms\n",
    "\n",
    "# 测试数据\n",
    "intervals = [\n",
    "    (9.0, 12.5), (11.0, 14.0), (13.0, 14.5),\n",
    "    (9.0, 10.5), (13.0, 14.5), (14.0, 16.5),\n",
    "    (15.0, 16.5), (15.0, 16.5), (9.0, 10.5)\n",
    "]\n",
    "\n",
    "min_rooms, room_assignments = min_meeting_rooms(intervals)\n",
    "\n",
    "print(f\"最少需要 {min_rooms} 间教室\")\n",
    "for i, assignments in enumerate(room_assignments):\n",
    "    print(f\"教室 {i+1}: {assignments}\")"
   ],
   "outputs": [
    {
     "name": "stdout",
     "output_type": "stream",
     "text": [
      "最少需要 3 间教室\n",
      "教室 1: [(9.0, 12.5), (13.0, 14.5), (15.0, 16.5)]\n",
      "教室 2: [(9.0, 10.5), (11.0, 14.0), (14.0, 16.5)]\n",
      "教室 3: [(9.0, 10.5), (13.0, 14.5), (15.0, 16.5)]\n"
     ]
    }
   ],
   "execution_count": 3
  },
  {
   "cell_type": "markdown",
   "metadata": {},
   "source": [
    "## 问题 4 \n",
    "\n",
    "> 爬楼梯问题：假设爬楼梯时你每次只能爬一阶或者爬两阶，问爬上n阶的楼梯，你一共有多少种方法\n",
    "\n",
    "请设计算法完成该问题，分析算法设计思路，计算时间复杂度，并基于python编程实现"
   ]
  },
  {
   "cell_type": "markdown",
   "metadata": {},
   "source": [
    "idea：\n",
    "这是一道比较经典的动态规划问题。<br>\n",
    "该问题的递归关系如下：\n",
    "1. 如果n=1，只有一种方法\n",
    "2. 如果n=2,有两种方法\n",
    "3. 如果n为其他值，可以从n-1和n-2上来，f(n)=f(n-1)+2*f(n-2)<br>\n",
    "时间复杂度是O(n)，因为只需要遍历一遍"
   ]
  },
  {
   "cell_type": "code",
   "metadata": {
    "ExecuteTime": {
     "end_time": "2025-05-11T07:36:27.830129Z",
     "start_time": "2025-05-11T07:36:27.813020Z"
    }
   },
   "source": [
    "# add your code here\n",
    "# your algorithm time complexity is: O(n)\n",
    "def climb_stairs(n: int) -> int:\n",
    "    # 基础情况\n",
    "    if n == 1:\n",
    "        return 1\n",
    "    if n == 2:\n",
    "        return 2\n",
    "    \n",
    "    # 初始化前两级台阶的状态\n",
    "    previous_two = 1   # n-2阶的方法数\n",
    "    previous_one = 2   # n-1阶的方法数\n",
    "    \n",
    "    # 从第三级台阶开始动态规划计算\n",
    "    current_level = 3\n",
    "    while current_level <= n:\n",
    "        # 计算当前台阶方法数\n",
    "        new_methods = previous_two + previous_one\n",
    "        # 更新前两级台阶状态\n",
    "        previous_two = previous_one\n",
    "        previous_one = new_methods\n",
    "        current_level += 1\n",
    "    \n",
    "    return previous_one  # 最终结果存储在最近的前一级\n",
    "\n",
    "# test\n",
    "cases_to_test = [1, 1, 4, 5, 1, 4,11,14]\n",
    "for case in cases_to_test:\n",
    "    print(f\"台阶数 {case} 的爬法共有 {climb_stairs(case)} 种\")"
   ],
   "outputs": [
    {
     "name": "stdout",
     "output_type": "stream",
     "text": [
      "台阶数 1 的爬法共有 1 种\n",
      "台阶数 1 的爬法共有 1 种\n",
      "台阶数 4 的爬法共有 5 种\n",
      "台阶数 5 的爬法共有 8 种\n",
      "台阶数 1 的爬法共有 1 种\n",
      "台阶数 4 的爬法共有 5 种\n",
      "台阶数 11 的爬法共有 144 种\n",
      "台阶数 14 的爬法共有 610 种\n"
     ]
    }
   ],
   "execution_count": 7
  },
  {
   "cell_type": "markdown",
   "metadata": {},
   "source": [
    "## 问题 5 \n",
    "\n",
    "> 0-1背包问题：现在有4块大理石，每个大理石对应的重量和价值使用一个元组表示, 即（重量，价值），4块大理石的重量和价值为：[(5,10), (4,40), (6,30), (3, 50)], 假设你有一辆最大承重为9的小推车，请问使用这个小推车装大理石的最大价值为多少\n",
    "\n",
    "请设计一个算法解决该问题，分析算法设计思路，计算时间复杂度，并基于python编程实现"
   ]
  },
  {
   "cell_type": "markdown",
   "metadata": {},
   "source": [
    "idea：这是一个动态规划问题。和hw2里面的一道题很相似，但是比那个简单易懂一些。\n",
    "1. 定义状态：dp[i][w]表示前i个物品在背包重为w时能活的的最大价值\n",
    "2. 初始状态：dp[0][w]=0，没有物品的时候价值为0\n",
    "3. 状态转移：<br>(1)如果该物品超重：dp[i][w]=dp[i-1][w]  #按我的写法不管怎么样这步一定要走，停在这说明超重，否则就是后续情况，是hw2的那道题给我一些启发<br>(2)否则的解释是：dp[i][w]=max（dp[i][w]，dp[i-1][w-weight[i]]+value[i]）\n",
    "4. 时间复杂度分析O(n*w)，其中n是大理石数量，w是背包容量"
   ]
  },
  {
   "cell_type": "code",
   "metadata": {
    "ExecuteTime": {
     "end_time": "2025-05-11T07:44:43.075701Z",
     "start_time": "2025-05-11T07:44:43.057734Z"
    }
   },
   "source": [
    "# add your code here\n",
    "# your algorithm time complexity is:O(n*w)\n",
    "def knapsack(weights, values, capacity):\n",
    "    n = len(weights)\n",
    "    # dp[i][j]表示前i个物品，容量为j时的最大价值\n",
    "    dp = [[0] * (capacity + 1) for _ in range(n + 1)]\n",
    "\n",
    "    for i in range(1, n + 1):\n",
    "        for j in range(1, capacity + 1):\n",
    "            dp[i][j] = dp[i - 1][j]\n",
    "            if weights[i - 1] <= j:\n",
    "                dp[i][j] = max(dp[i][j], dp[i - 1][j - weights[i - 1]] + values[i - 1])\n",
    "\n",
    "    return dp[n][capacity]\n",
    "\n",
    "# 物品重量与价值\n",
    "weights = [5, 4, 6, 3]\n",
    "values = [10, 40, 30, 50]\n",
    "capacity = 9\n",
    "\n",
    "# 计算最大价值\n",
    "max_value = knapsack(weights, values, capacity)\n",
    "print(f\"背包最大承重为 {capacity}时， 大理石的最大价值为: {max_value}\")"
   ],
   "outputs": [
    {
     "name": "stdout",
     "output_type": "stream",
     "text": [
      "背包最大承重为 9时， 大理石的最大价值为: 90\n"
     ]
    }
   ],
   "execution_count": 10
  },
  {
   "cell_type": "markdown",
   "metadata": {},
   "source": [
    "## 问题 6 \n",
    "给定 `n` 个非负整数表示每个宽度为 `1` 的柱子的高度图，计算按此排列的柱子，下雨之后能接多少雨水。\n",
    "\n",
    "\n",
    "\n",
    "<div style=\"text-align:center;width:800px;\"> <img alt=\"\" src=\"./fig/hw3q6.png\"> </div>\n",
    "\n",
    "请分析算法设计思路，计算时间复杂度，并基于python编程实现"
   ]
  },
  {
   "cell_type": "markdown",
   "metadata": {},
   "source": [
    "idea：这让我想到了hw1里面的寻找局部极小值问题。但是我又想到上课的时候老师说过这个问题，我只记得老师当时说过的从格子的最底层开始看哪些格子可以接到水，直到只有一根柱子在水面上面的那一层。<br>但是印象中这都不是最好的做法，所以我询问了大模型。大模型建议我采用双指针法。<br>\n",
    "1. 创建左右两个指针和左右最大高度，每次移动较小最大高度一侧的指针，再计算当前位置能够接的雨水量\n",
    "2. 每个位置能够接到的雨水量由左右两侧较小柱子决定\n",
    "3. 时间复杂度分析：O(n)"
   ]
  },
  {
   "cell_type": "code",
   "metadata": {
    "ExecuteTime": {
     "end_time": "2025-05-11T08:04:12.392619Z",
     "start_time": "2025-05-11T08:04:12.381103Z"
    }
   },
   "source": [
    "# add your code here\n",
    "# your algorithm time complexity is:O(n)\n",
    "\n",
    "def trap(h):\n",
    "    if not h:\n",
    "        return 0\n",
    "    \n",
    "    l, r = 0, len(h) - 1\n",
    "    max_l, max_r = h[l], h[r]\n",
    "    total = 0\n",
    "    \n",
    "    while l < r:\n",
    "        if max_l <= max_r:\n",
    "            l += 1\n",
    "            max_l = max(max_l, h[l])\n",
    "            total += max_l - h[l]\n",
    "        else:\n",
    "            r -= 1\n",
    "            max_r = max(max_r, h[r])\n",
    "            total += max_r - h[r]\n",
    "    \n",
    "    return total\n",
    "\n",
    "# 测试\n",
    "print(trap([0,1,0,2,1,0,1,3,2,1,2,1]))  # 输出6\n",
    "print(trap([4,2,0,3,2,5]))               # 输出9"
   ],
   "outputs": [
    {
     "name": "stdout",
     "output_type": "stream",
     "text": [
      "6\n",
      "9\n"
     ]
    }
   ],
   "execution_count": 13
  },
  {
   "cell_type": "markdown",
   "metadata": {},
   "source": [
    "## 问题 7 \n",
    "\n",
    "**股票投资组合优化**： 假设你是一位投资者，想要在不同的股票中分配你的资金，以最大化你的投资回报。每只股票都有不同的预期收益率和风险。你的目标是选择一些股票，使得总投资金额不超过你的预算，并且预期收益最大化。\n",
    "\n",
    "在这个情况下，你可以将每只股票视为一个“物品”，其重量为投资金额，价值为预期收益率。然后，你可以使用分级背包问题的方法来选择部分股票，以便在预算内获得最大的预期收益。\n",
    "\n",
    "以下是一个简化的例子：\n",
    "\n",
    "假设你有以下三只股票可供选择：\n",
    "\n",
    "1. 股票 A：投资金额 5000 美元，预期收益率 10%\n",
    "2. 股票 B：投资金额 3000 美元，预期收益率 8%\n",
    "3. 股票 C：投资金额 2000 美元，预期收益率 12%\n",
    "\n",
    "请设计算法找到最优投资方案，分析算法设计思路，计算时间复杂度，并基于python编程实现"
   ]
  },
  {
   "cell_type": "markdown",
   "metadata": {},
   "source": [
    "idea：这是一个0/1背包问题，采用贪心算法得不到最佳结果，需要采用动态规划方法。<br>\n",
    "我准备采用和问题5同样的方法来得到答案。代码参考了问题5和deepseek，其中找序号部分询问了deepseek\n",
    "1. 定义状态：dp[i][w]表示前i个物品在背包重为w时能获得的最大价值\n",
    "2. 初始状态：dp[0][w]=0，没有物品的时候价值为0\n",
    "3. 状态转移：<br>(1)如果该物品超重：dp值不变<br>(2)将dp值与不变的作比较\n",
    "4. 时间复杂度分析O(n*w)，其中n是股票数量，w是投资额度"
   ]
  },
  {
   "cell_type": "code",
   "metadata": {
    "ExecuteTime": {
     "end_time": "2025-05-11T09:34:45.685803Z",
     "start_time": "2025-05-11T09:34:45.669718Z"
    }
   },
   "source": [
    "# add your code here\n",
    "# your algorithm time complexity is:O(n*w)\n",
    "def knapsack_07(weights, values, capacity):\n",
    "    n = len(weights)\n",
    "    #dp[i][j]表示前i个物品，容量为j时的最大价值\n",
    "    dp = [[0] * (capacity + 1) for _ in range(n + 1)]\n",
    "    selected_list=[]\n",
    "    \n",
    "    for i in range(1, n + 1):\n",
    "        for j in range(1, capacity + 1):\n",
    "            dp[i][j] = dp[i - 1][j]\n",
    "            if weights[i - 1] <= j:\n",
    "                dp[i][j] = max(dp[i][j], dp[i - 1][j - weights[i - 1]] + values[i - 1])\n",
    "                \n",
    "    #反向追踪被选中的物品\n",
    "    i, j = n, capacity\n",
    "    while i > 0 and j > 0:\n",
    "        if dp[i][j] != dp[i-1][j]:  # 说明选中了第i个物品\n",
    "            selected_list.append(i)       # 注意物品序号从1开始\n",
    "            j -= weights[i-1]       # 减去当前物品重量\n",
    "        i -= 1                      # 继续检查前一个物品\n",
    "    \n",
    "    selected_list.reverse()  # 因为是从后向前追踪的，需要反转顺序\n",
    "    return dp[n][capacity],selected_list\n",
    "\n",
    "# \n",
    "investment = [5000,3000,2000]\n",
    "earning_rate = [0.10,0.08,0.12]\n",
    "earning=[0] * len(investment)\n",
    "\n",
    "for i in range(len(investment)):\n",
    "    earning[i] = investment[i] * earning_rate[i]\n",
    "\n",
    "capacity = 8000\n",
    "\n",
    "# 计算最大价值\n",
    "max_value,selected_list = knapsack_07(investment, earning, capacity)\n",
    "print(f\"最大投资限额为 {capacity}时，最大收益为: {max_value}, selected_list: {selected_list}\")"
   ],
   "outputs": [
    {
     "name": "stdout",
     "output_type": "stream",
     "text": [
      "最大投资限额为 8000时，最大收益为: 740.0, selected_list: [1, 2]\n"
     ]
    }
   ],
   "execution_count": 27
  },
  {
   "cell_type": "markdown",
   "metadata": {},
   "source": [
    "## 问题 8\n",
    "\n",
    "给你二叉搜索树的根节点 root ，该树中的恰好两个节点的值被错误地交换。请在不改变其结构的情况下，恢复这棵树 。设计算法解决该问题，分析算法设计思路，计算时间复杂度，并基于python编程实现\n",
    "\n",
    "e.g.:\n",
    "---\n",
    "1.\n",
    "\n",
    "<div style=\"text-align:center;width:200px;\"> <img alt=\"\" src=\"./fig/hw3q9-1.jpg\"> </div>\n",
    "输入：root = [1,3,null,null,2]， 输出为：[3,1,null,null,2]， \n",
    "\n",
    "解释：3 不能是 1 的左孩子，因为 3 > 1 。交换 1 和 3 使二叉搜索树有效。\n",
    "\n",
    "2.\n",
    "\n",
    " <div style=\"text-align:center;width:200px;\"> <img alt=\"\" src=\"./fig/hw3q9-1.jpg\"> </div>\n",
    "输入： root=[3,1,4,null,null,2]， 输出为：[2,1,4,null,null,3]\n",
    "\n",
    "解释：2 不能在 3 的右子树中，因为 2 < 3 。交换 2 和 3 使二叉搜索树有效。"
   ]
  },
  {
   "cell_type": "markdown",
   "metadata": {},
   "source": [
    "idea：\n",
    "我确实想不到什么好办法，就去询问deepseek了。<br>\n",
    "deepseek建议我采用中序遍历方法，因为得到应该是仅有这个错误的一个升序列表，这两个错误的值可以很轻松地被找到。找到这两个值以后，对两个节点进行交换。<br>\n",
    "时间复杂度分析：每个节点被中序遍历了一次，是$O(n)$，查找错误的值也仅需$O(logn)$，所以时间复杂度是$O(n)$"
   ]
  },
  {
   "cell_type": "code",
   "metadata": {
    "ExecuteTime": {
     "end_time": "2025-05-11T09:51:09.917884Z",
     "start_time": "2025-05-11T09:51:09.901114Z"
    }
   },
   "source": [
    "# add your code here\n",
    "# your algorithm time complexity is:O(n)\n",
    "class TreeNode:\n",
    "    def __init__(self, val=0, left=None, right=None):\n",
    "        self.val = val\n",
    "        self.left = left\n",
    "        self.right = right\n",
    "\n",
    "# 构建测试用例\n",
    "def build_tree_from_list(arr):\n",
    "    \"\"\"\n",
    "    从层序数组 arr（含 None 表示空节点）构建二叉树，返回根节点。\n",
    "    \"\"\"\n",
    "    if not arr:\n",
    "        return None\n",
    "\n",
    "    # 1. 创建所有节点（或 None 占位）\n",
    "    nodes = [TreeNode(val) if val is not None else None for val in arr]\n",
    "\n",
    "    # 2. 连接父子关系\n",
    "    for i in range(len(arr)):\n",
    "        node = nodes[i]\n",
    "        if node is not None:\n",
    "            left_i = 2 * i + 1\n",
    "            right_i = 2 * i + 2\n",
    "            if left_i < len(arr):\n",
    "                node.left = nodes[left_i]\n",
    "            if right_i < len(arr):\n",
    "                node.right = nodes[right_i]\n",
    "\n",
    "    # 根节点就是 nodes[0]\n",
    "    return nodes[0]\n",
    "\n",
    "#  构建示例树\n",
    "arr1 = [1,3,None,None,2]\n",
    "root1 = build_tree_from_list(arr1)\n",
    "\n",
    "\n",
    "class Solution:\n",
    "    def recoverTree(self, root: TreeNode) -> None:\n",
    "        # 初始化变量\n",
    "        self.first = None\n",
    "        self.second = None\n",
    "        self.prev = TreeNode(float('-inf'))  # 设置一个非常小的值\n",
    "\n",
    "        # 中序遍历\n",
    "        def inorder(node):\n",
    "            if not node:\n",
    "                return\n",
    "\n",
    "            inorder(node.left)\n",
    "\n",
    "            # 检查当前节点是否违反了二叉搜索树的性质\n",
    "            if self.first is None and self.prev.val >= node.val:\n",
    "                self.first = self.prev  # 记录第一个错误的节点\n",
    "            if self.first and self.prev.val >= node.val:\n",
    "                self.second = node  # 记录第二个错误的节点\n",
    "            self.prev = node  # 更新prev为当前节点\n",
    "\n",
    "            inorder(node.right)\n",
    "\n",
    "        inorder(root)\n",
    "\n",
    "        # 交换两个错误的节点\n",
    "        self.first.val, self.second.val = self.second.val, self.first.val\n",
    "\n",
    "Solution().recoverTree(root1)\n",
    "\n",
    "# 结果检验（中序遍历应为 1,2,3）\n",
    "def inorder_vals(node):\n",
    "    if not node:\n",
    "        return []\n",
    "    return inorder_vals(node.left) + [node.val] + inorder_vals(node.right)\n",
    "print(inorder_vals(root1))\n",
    "\n",
    "\n",
    "# 把树再转回层序数组（遇 None 继续保留到队列尾部）\n",
    "from collections import deque\n",
    "def tree_to_list(root):\n",
    "    if not root: return []\n",
    "    res, q = [], deque([root])\n",
    "    while q:\n",
    "        node = q.popleft()\n",
    "        if node:\n",
    "            res.append(node.val)\n",
    "            q.append(node.left)\n",
    "            q.append(node.right)\n",
    "        else:\n",
    "            res.append(None)\n",
    "    # 去掉末尾多余的 None\n",
    "    while res and res[-1] is None:\n",
    "        res.pop()\n",
    "    return res\n",
    "\n",
    "print(tree_to_list(root1))"
   ],
   "outputs": [
    {
     "name": "stdout",
     "output_type": "stream",
     "text": [
      "[1, 2, 3]\n",
      "[3, 1, None, None, 2]\n"
     ]
    }
   ],
   "execution_count": 31
  },
  {
   "metadata": {},
   "cell_type": "markdown",
   "source": [
    "## 问题 9  \n",
    "\n",
    "给你一个二叉树的根节点 root ，树中每个节点都存放有一个 0 到 9 之间的数字。每条从根节点到叶节点的路径都代表一个数字：\n",
    "\n",
    "> 例如，从根节点到叶节点的路径 1 -> 2 -> 3 表示数字 123 。\n",
    "\n",
    "设计一个算法计算从根节点到叶节点生成的所有数字之和 ，分析算法设计思路，计算时间复杂度，并基于python编程实现\n",
    "\n",
    "叶节点:是指没有子节点的节点。\n",
    "\n",
    "e.g.:\n",
    "---\n",
    "1.\n",
    "\n",
    " <div style=\"text-align:center;width:200px;\"> <img alt=\"figure\" src=\"./fig/hw3q10-1.jpg\"> </div>\n",
    "\n",
    " 输入：root = [1,2,3], 输出：25\n",
    "\n",
    "解释：从根到叶子节点路径 1->2 代表数字 12，1->3 代表数字 13，因此和为 12 + 13 = 25 。\n",
    "\n",
    "2.\n",
    "\n",
    " <div style=\"text-align:center;width:200px;\"> <img alt=\"figure\" src=\"./fig/hw3q10-2.jpg\"> </div>\n",
    "\n",
    " 输入：root = [4,9,0,5,1], 输出：1026\n",
    "\n",
    "解释：从根到叶子节点路径 4->9->5 代表数字 495，4->9->1 代表数字 491，4->0 代表数字 40。因此和为 495 + 491 + 40 = 1026 。"
   ]
  },
  {
   "cell_type": "markdown",
   "metadata": {},
   "source": [
    "idea：这题我一开始的想法是应该采用先序遍历的方法遍历树，在遍历的过程中利用栈记录遍历到的值，遇到叶子节点就打到出栈条件，弹出栈顶元素的同时也读取栈内元素的值以得到遍历顺序。<br>\n",
    "但是后续我想到可以不采用栈，直接把路径上面的值在前往下一层的时候乘10即可，退出条件仍然是遇到叶子节点。"
   ]
  },
  {
   "cell_type": "code",
   "metadata": {
    "ExecuteTime": {
     "end_time": "2025-05-11T10:10:34.721147Z",
     "start_time": "2025-05-11T10:10:34.706447Z"
    }
   },
   "source": [
    "# add your code here\n",
    "# your algorithm time complexity is:\n",
    "class TreeNode:\n",
    "    def __init__(self, val=0, left=None, right=None):\n",
    "        self.val = val\n",
    "        self.left = left\n",
    "        self.right = right\n",
    "\n",
    "def sumNumbers(root):\n",
    "    def preorder_traversal(node, current_sum):\n",
    "        if not node:\n",
    "            return 0\n",
    "        current_sum = current_sum * 10 + node.val\n",
    "        if not node.left and not node.right:\n",
    "            return current_sum\n",
    "        return preorder_traversal(node.left, current_sum) + preorder_traversal(node.right, current_sum)\n",
    "    \n",
    "    return preorder_traversal(root, 0)\n",
    "\n",
    "def build_tree(nodes):\n",
    "    if not nodes:\n",
    "        return None\n",
    "    root = TreeNode(nodes[0])\n",
    "    queue = [root]\n",
    "    i = 1\n",
    "    while queue and i < len(nodes):\n",
    "        current = queue.pop(0)\n",
    "        if nodes[i] is not None:\n",
    "            current.left = TreeNode(nodes[i])\n",
    "            queue.append(current.left)\n",
    "        i += 1\n",
    "        if i < len(nodes) and nodes[i] is not None:\n",
    "            current.right = TreeNode(nodes[i])\n",
    "            queue.append(current.right)\n",
    "        i += 1\n",
    "    return root\n",
    "\n",
    "#test\n",
    "root = [4,9,0,5,1]\n",
    "root = build_tree(root)\n",
    "print(sumNumbers(root))"
   ],
   "outputs": [
    {
     "name": "stdout",
     "output_type": "stream",
     "text": [
      "1026\n"
     ]
    }
   ],
   "execution_count": 6
  },
  {
   "metadata": {},
   "cell_type": "markdown",
   "source": [
    "## 问题 10  \n",
    "\n",
    "给你一个二叉树的根节点 root ， 检查它是否轴对称。\n",
    "\n",
    "1. 分析算法设计思路，计算时间复杂度，并基于python编程实现\n",
    "2. \\* 设计使用递归和迭代两种方法解决这个问题，计算时间复杂度，并基于python编程实现\n",
    "\n",
    "e.g.:\n",
    "---\n",
    "1.\n",
    "\n",
    " <div style=\"text-align:center;width:200px;\"> <img alt=\"figure\" src=\"./fig/hw3q11-1.png\"> </div>\n",
    "\n",
    " 输入：root = [1,2,2,3,4,4,3]， 输出：true\n",
    "\n",
    "解释：二叉树 [1,2,2,3,4,4,3] 对称。\n",
    "\n",
    "2.\n",
    "\n",
    " <div style=\"text-align:center;width:200px;\"> <img alt=\"figure\" src=\"./fig/hw3q11-2.png\"> </div>\n",
    "\n",
    " 输入：root = [1,2,2,null,3,null,3]， 输出：false"
   ]
  },
  {
   "cell_type": "markdown",
   "metadata": {},
   "source": [
    "idea：\n",
    "这题我的想法是采用递归的方法。具体来说是先比较左子树的左节点和右子树的右节点是否对称，再比较左子树的右节点和右子树的左节点是否对称，递归地进行这种操作。<br>\n",
    "利用deepseek验证了我的想法。代码能力不足，请大模型帮我生成了代码<br>\n",
    "时间复杂度分析：每个节点仅被访问一次，时间复杂度为O(n)"
   ]
  },
  {
   "cell_type": "code",
   "metadata": {
    "ExecuteTime": {
     "end_time": "2025-05-11T10:31:42.249874Z",
     "start_time": "2025-05-11T10:31:42.228035Z"
    }
   },
   "source": [
    "# add your code here\n",
    "# your algorithm time complexity is:O(n)\n",
    "class TreeNode:\n",
    "    def __init__(self, val=0, left=None, right=None):\n",
    "        self.val = val\n",
    "        self.left = left\n",
    "        self.right = right\n",
    "\n",
    "class Solution:\n",
    "    def isSymmetric_recursive(self, root):\n",
    "        if not root:\n",
    "            return True\n",
    "        return self.check_symmetric(root.left, root.right)\n",
    "    \n",
    "    def check_symmetric(self, left, right):\n",
    "        # 两个节点都为空，对称\n",
    "        if not left and not right:\n",
    "            return True\n",
    "        # 只有一个节点为空，不对称\n",
    "        if not left or not right:\n",
    "            return False\n",
    "        # 节点值不相等，不对称\n",
    "        if left.val != right.val:\n",
    "            return False\n",
    "        # 递归检查外侧和内侧子树\n",
    "        return (self.check_symmetric(left.left, right.right) and \n",
    "                self.check_symmetric(left.right, right.left))\n",
    "\n",
    "def build_tree(nodes, index=0):\n",
    "    if index >= len(nodes) or nodes[index] is None:\n",
    "        return None\n",
    "    root = TreeNode(nodes[index])\n",
    "    root.left = build_tree(nodes, 2*index+1)\n",
    "    root.right = build_tree(nodes, 2*index+2)\n",
    "    return root\n",
    "\n",
    "# test\n",
    "nodes1 = [1, 2, 2, 3, 4, 4, 3]\n",
    "root1 = build_tree(nodes1)\n",
    "print(nodes1)\n",
    "print(Solution().isSymmetric_recursive(root1))\n",
    "\n",
    "nodes2 = [1, 2, 2, None, 3, None, 3]\n",
    "root2 = build_tree(nodes2)\n",
    "print(nodes1)\n",
    "print(Solution().isSymmetric_recursive(root2))"
   ],
   "outputs": [
    {
     "name": "stdout",
     "output_type": "stream",
     "text": [
      "[1, 2, 2, 3, 4, 4, 3]\n",
      "True\n",
      "[1, 2, 2, 3, 4, 4, 3]\n",
      "False\n"
     ]
    }
   ],
   "execution_count": 8
  },
  {
   "cell_type": "markdown",
   "metadata": {},
   "source": [
    "## 问题 11  \n",
    "\n",
    "给你一个由 '1'（陆地）和 '0'（水）组成的的二维网格，请你计算网格中岛屿的数量。岛屿总是被水包围，并且每座岛屿只能由水平方向和/或竖直方向上相邻的陆地连接形成。\n",
    "\n",
    "此外，你可以假设该网格的四条边均被水包围。\n",
    "\n",
    "分析算法设计思路，计算时间复杂度，并基于python编程实现\n",
    "\n",
    "e.g.:\n",
    "---\n",
    "1.\n",
    "输入：grid = [\n",
    "\n",
    "    [\"1\",\"1\",\"1\",\"1\",\"0\"],\n",
    "\n",
    "    [\"1\",\"1\",\"0\",\"1\",\"0\"], \n",
    "\n",
    "    [\"1\",\"1\",\"0\",\"0\",\"0\"], \n",
    "\n",
    "    [\"0\",\"0\",\"0\",\"0\",\"0\"]  \n",
    "\n",
    "]\n",
    "\n",
    "输出：1\n",
    "\n",
    "2.\n",
    "输入：grid = [\n",
    "\n",
    "    [\"1\",\"1\",\"0\",\"0\",\"0\"],\n",
    "\n",
    "    [\"1\",\"1\",\"0\",\"0\",\"0\"],\n",
    "\n",
    "    [\"0\",\"0\",\"1\",\"0\",\"0\"],\n",
    "\n",
    "    [\"0\",\"0\",\"0\",\"1\",\"1\"]\n",
    "\n",
    "]\n",
    "\n",
    "输出：3"
   ]
  },
  {
   "cell_type": "markdown",
   "metadata": {},
   "source": [
    "idea:<br>QAQ真不会QAQ<br>\n",
    "下面是求助大模型得到的结果<br>\n",
    "深度优先搜索(DFS)：<br>\n",
    "遍历整个网格，每当发现一个为'1'的单元格（陆地）时，使用DFS算法将与之相连的所有陆地标记为已访问。每次启动一次新的DFS搜索，就意味着发现了一个新的岛屿。<br>\n",
    "<br>\n",
    "实现步骤：<br>\n",
    "初始化岛屿计数器为0。<br>\n",
    "遍历整个网格，当遇到值为'1'的单元格时：<br>\n",
    "增加岛屿计数器。<br>\n",
    "使用DFS将该单元格及其所有相连的陆地标记为已访问（通过将值改为'0'）。<br>\n",
    "最终返回岛屿计数器的值。<br>\n",
    "<br>\n",
    "DFS具体实现：<br>\n",
    "递归遍历当前单元格的上、下、左、右四个方向。<br>\n",
    "每次递归前检查边界条件和单元格的值。<br>\n",
    "将已访问的陆地标记为'0'，避免重复计算。<br>\n",
    "时间复杂度：\n",
    "主循环遍历：遍历所有网格单元，共执行 m*n 次。每个单元仅被访问一次，时间复杂度为 $O(m*n)$。<br>\n",
    "DFS 操作：\n",
    "每个陆地单元（'1'）会被DFS访问并标记为'0'，每个单元最多被处理一次。\n",
    "所有陆地单元的总处理次数为 $O(m*n)$（最坏情况下整个网格全是陆地）<br>\n",
    "故整体时间复杂度为$O(m*n)$"
   ]
  },
  {
   "cell_type": "code",
   "metadata": {
    "ExecuteTime": {
     "end_time": "2025-05-11T10:39:30.579416Z",
     "start_time": "2025-05-11T10:39:30.570395Z"
    }
   },
   "source": [
    "# add your code here\n",
    "# your algorithm time complexity is:O(m*n)\n",
    "class Solution:\n",
    "    def numIslands(self, grid: list[list[str]]) -> int:\n",
    "        if not grid or not grid[0]:\n",
    "            return 0\n",
    "\n",
    "        rows, cols = len(grid), len(grid[0])\n",
    "        count = 0\n",
    "\n",
    "        # 定义DFS函数，用于标记与当前陆地相连的所有陆地\n",
    "        def dfs(r, c):\n",
    "            # 边界检查和水域/已访问检查\n",
    "            if r < 0 or c < 0 or r >= rows or c >= cols or grid[r][c] != '1':\n",
    "                return\n",
    "\n",
    "            # 标记当前陆地为已访问（将其变为'0'）\n",
    "            grid[r][c] = '0'\n",
    "\n",
    "            # 递归检查上下左右四个方向\n",
    "            dfs(r + 1, c)  # 下\n",
    "            dfs(r - 1, c)  # 上\n",
    "            dfs(r, c + 1)  # 右\n",
    "            dfs(r, c - 1)  # 左\n",
    "\n",
    "        # 遍历整个网格\n",
    "        for r in range(rows):\n",
    "            for c in range(cols):\n",
    "                if grid[r][c] == '1':\n",
    "                    # 发现新的岛屿，计数加1\n",
    "                    count += 1\n",
    "                    # 使用DFS标记与当前陆地连接的所有陆地\n",
    "                    dfs(r, c)\n",
    "\n",
    "        return count\n",
    "\n",
    "\n",
    "# 测试用例\n",
    "grid1 = [\n",
    "    [\"1\", \"1\", \"1\", \"1\", \"0\"],\n",
    "    [\"1\", \"1\", \"0\", \"1\", \"0\"],\n",
    "    [\"1\", \"1\", \"0\", \"0\", \"0\"],\n",
    "    [\"0\", \"0\", \"0\", \"0\", \"0\"]\n",
    "]\n",
    "grid2 = [\n",
    "    [\"1\", \"1\", \"0\", \"0\", \"0\"],\n",
    "    [\"1\", \"1\", \"0\", \"0\", \"0\"],\n",
    "    [\"0\", \"0\", \"1\", \"0\", \"0\"],\n",
    "    [\"0\", \"0\", \"0\", \"1\", \"1\"]\n",
    "]\n",
    "\n",
    "solution = Solution()\n",
    "print(solution.numIslands(grid1))  # 应该输出：1\n",
    "print(solution.numIslands(grid2))  # 应该输出：3"
   ],
   "outputs": [
    {
     "name": "stdout",
     "output_type": "stream",
     "text": [
      "1\n",
      "3\n"
     ]
    }
   ],
   "execution_count": 11
  }
 ],
 "metadata": {
  "language_info": {
   "name": "python"
  },
  "kernelspec": {
   "name": "python3",
   "language": "python",
   "display_name": "Python 3 (ipykernel)"
  }
 },
 "nbformat": 4,
 "nbformat_minor": 2
}
