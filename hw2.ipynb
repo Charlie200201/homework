{
 "cells": [
  {
   "cell_type": "markdown",
   "metadata": {},
   "source": [
    "## algorithm design and anlysis-2025 spring  homework 2\n",
    "**Deadline**：2025.5.14\n",
    "\n",
    "**name**:\n",
    "\n",
    "\n",
    "note：\n",
    "---\n",
    "1. 带有\\*的题目，申请免上课的同学，必须完成，其他同学选作；\n",
    "2. 请独立完成，如求助了他人或者大模型，请著明，并且不可省略算法分析部分；\n",
    "4. 如若作答有雷同，全部取消成绩；\n",
    "3. 需要书面作答的题目，可以通过引用图片的形式添加，但是注意上传项目时包含所引用的图片的源文件；\n",
    "4. $log_n$ 默认表示$log_2{n}$;"
   ]
  },
  {
   "cell_type": "markdown",
   "metadata": {},
   "source": [
    "## 问题 1  \n",
    "\n",
    "> 给定一个已排序的链表的头 `head` ， *删除所有重复的元素，使每个元素只出现一次* 。返回 *已排序的链表* 。链表的类如下所示：\n",
    "\n",
    "```python\n",
    "class NodeList:\n",
    "    def __init__(self, val=None, right=None):\n",
    "        self.val   = val\n",
    "        self.right = right\n",
    "```\n",
    "\n",
    "输入是一个数组，你首先需要将数组转化为链表，然后删除链表中的重复元素，再遍历链表元素，以一个数组的形式返回。请设计一个算法解决上述任务，分析算法设计思路，计算时间复杂度, 并基于python编程实现。\n",
    "\n",
    "e.g.  输入：head=[1, 1, 2, 3, 3]   输出：[1, 2, 3]\n",
    "\n",
    "![image-20240502110020439](./fig/hw2q1.png)\n",
    "\n"
   ]
  },
  {
   "cell_type": "markdown",
   "metadata": {},
   "source": [
    "idea：\n",
    "1. 利用尾插法建立链表（输入数组已有序）\n",
    "2. 想办法完成核心步骤，删除重复元素：由于已经有序，所以重复元素必然相连。只需比较元素与其右侧元素即可。如果相等就把指针指向移向右侧的右侧元素，并且释放右侧元素所占用的内存空间。递归地完成该操作。最终，将新链表利用循环操作输入到一个数组中。\n",
    "3. 时间复杂度分析：数组与链表互相转换，需要遍历，均为$O(n)$复杂度，删除重复元素也仅需遍历，同样是$O(n)$复杂度，所以总复杂度是$O(n)$"
   ]
  },
  {
   "cell_type": "code",
   "metadata": {
    "ExecuteTime": {
     "end_time": "2025-05-10T12:37:24.128107Z",
     "start_time": "2025-05-10T12:37:24.119036Z"
    }
   },
   "source": [
    "# add your idea here\n",
    "# your algorithm time complexity is:O(n)\n",
    "\n",
    "class Model:\n",
    "    def __init__(self, val=None, right=None):\n",
    "        self.val = val\n",
    "        self.right = right\n",
    "\n",
    "def array_to_linked_list(arr):\n",
    "    if not arr:\n",
    "        return None\n",
    "    head = Model(arr[0])\n",
    "    current = head\n",
    "    for val in arr[1:]:\n",
    "        current.right = Model(val)\n",
    "        current = current.right\n",
    "    return head\n",
    "\n",
    "def delete_duplicates(head):\n",
    "    current = head\n",
    "    while current and current.right:\n",
    "        if current.val == current.right.val:\n",
    "            current.right = current.right.right\n",
    "        else:\n",
    "            current = current.right\n",
    "    return head\n",
    "\n",
    "def linked_list_to_array(head):\n",
    "    arr = []\n",
    "    current = head\n",
    "    while current:\n",
    "        arr.append(current.val)\n",
    "        current = current.right\n",
    "    return arr\n",
    "\n",
    "def process(arr):\n",
    "    head = array_to_linked_list(arr)\n",
    "    delete_duplicates(head)\n",
    "    return linked_list_to_array(head)\n",
    "\n",
    "# test\n",
    "input_arr = [1, 1, 2, 3, 3]\n",
    "result = process(input_arr)\n",
    "print(\"输出：{result}\".format(result=result))"
   ],
   "outputs": [
    {
     "name": "stdout",
     "output_type": "stream",
     "text": [
      "输出：[1, 2, 3]\n"
     ]
    }
   ],
   "execution_count": 3
  },
  {
   "metadata": {},
   "cell_type": "markdown",
   "source": [
    "## 问题 2  \n",
    "\n",
    "> 下面是一个经典的算法问题：\n",
    ">\n",
    "> - 给定包含n个整数的一个整数数组 `nums` 和一个整数目标值 `target`，请你在该数组中找出 **和为目标值** *`target`* 的那 **两个** 整数，并返回它们的**数组下标**。假设每种输入只会对应一个答案。但是，数组中同一个元素在答案里不能重复出现。你可以按任意顺序返回答案。\n",
    ">\n",
    "> 由于要多次查找数组中元素的位置，为了提高查询效率可以使用哈希表来存储数组中的数据，在哈希表中查询一个元素的复杂度为O(1)。 已知python中的字典是使用哈希表实现的，即使用`dict[key]`查询对应的value时间复杂度为O(1), python提供了查询字典是否包含某个key的功能：`key in dict`，时间复杂度也是O(1)\n",
    "\n",
    "请根据上面信息，设计一个时间复杂度为O(n) 的算法，解决上述算法问题\n",
    "\n",
    "e.g.   \n",
    "\n",
    "输入：nums=[2,7,11,15], target=9， 输出：[0，1]\n",
    "\n",
    "输入：nums=[3,2,4], target=6, 输出：[1,2]\n",
    "\n",
    "输入：nums=[3,3], target=6,  输出：[0,1]\n"
   ]
  },
  {
   "metadata": {},
   "cell_type": "markdown",
   "source": [
    "idea:\n",
    "1. 题目提示了使用哈希表来高效解决问题，题目提示了使用Pythond的字典来操作。这样查询一个元素的时间复杂度就是$O(1)$，而不是通过遍历得到元素的$O(n)$\n",
    "2. 具体做法可以是先建立一个字典，然后遍历字典内部的元素，检查其后方是否有元素与其之和是所需的target\n",
    "3. 时间复杂度分析：遍历数组是$O(n)$，每次查询是$O(1)$，经历了n词遍历，所以总查询是$O(n)$，所以总时间也是$O(n)$"
   ]
  },
  {
   "cell_type": "code",
   "metadata": {
    "ExecuteTime": {
     "end_time": "2025-05-10T12:38:09.202235Z",
     "start_time": "2025-05-10T12:38:09.189188Z"
    }
   },
   "source": [
    "# add your idea here\n",
    "# your algorithm time complexity is: O(n)\n",
    "def process_02(nums, target):\n",
    "    num_dict = {} \n",
    "    for index, num in enumerate(nums):  ## enumerate(nums)返回的是数组中的数字以及索引\n",
    "        complement = target - num\n",
    "        if complement in num_dict:\n",
    "            return [num_dict[complement], index]\n",
    "        num_dict[num] = index\n",
    "\n",
    "# 示例测试\n",
    "print(process_02([2, 7, 11, 15], 9))  \n",
    "print(process_02([3, 2, 4], 6))       \n",
    "print(process_02([3, 3], 6))     "
   ],
   "outputs": [
    {
     "name": "stdout",
     "output_type": "stream",
     "text": [
      "[0, 1]\n",
      "[1, 2]\n",
      "[0, 1]\n"
     ]
    }
   ],
   "execution_count": 8
  },
  {
   "cell_type": "markdown",
   "metadata": {},
   "source": [
    "\n",
    "> 栈是一种常用的数据结构，编译器中通常使用栈来实现表达式求值。\n",
    ">\n",
    "> 以表达式 $3+5 \\times 8-6$​ 为例。编译器使用两个栈来完成运算，即一个栈保持操作数，另一个栈保存运算符。\n",
    ">\n",
    "> 1. 从左向右遍历表达式，遇到数字就压入操作数栈；\n",
    ">\n",
    "> 2. 遇到运算符，就与运算符栈的栈顶元素进行比较。如果比运算符栈顶元素的优先级高，就将当前运算符压入栈；如果比运算符栈顶元素的优先级低或者相同，从运算符栈中取栈顶运算符，从操作数栈的栈顶取 2 个操作数，然后进行计算，再把计算完的结果压入操作数栈，继续比较。\n",
    ">\n",
    "> 下图是 $3+5 \\times 8-6$  这个表达式的计算过程：\n",
    "\n",
    "![figure](./fig/hw2q3.png)\n",
    "\n",
    "根据上述原理，请设计一个算法完成表达式的运算，当输入为表达式字符串，返回对应的计算结果。分析算法设计思路，计算时间复杂度，并基于python编程实现\n",
    "\n",
    "**note：**\n",
    "\n",
    "1. 假设输入的表达式只会出现加（“+”），减 “-”， 乘“*”，除 “/” 四个运算符, 表达式中只会出现正整数\n",
    "2. python中` str.isdigit()`函数可以判断字符串str是否为数字，\n",
    "\n",
    "\n",
    "\n",
    "e.g. :\n",
    "---\n",
    "\n",
    "1. 输入：“$3+5 * 8 -6$”   输出：37\n",
    "\n",
    "2. 输入：“$34+13*9 + 44-12/3$”  输出：191"
   ]
  },
  {
   "cell_type": "markdown",
   "metadata": {},
   "source": [
    "idea：\n",
    "1. 题目提示了采用两个栈来操作。同时提示了操作函数。\n",
    "2. 只会出现加减乘除，不会出现括号等等，所以定义优先级只需要考虑加减乘除\n",
    "3. 遍历表达式，根据题目提示进行入栈和出栈操作\n",
    "4. 时间复杂度分析：借助大模型分析，大模型告知遍历表达式需要$O(n)$，每个运算符和数字最多入栈一次，是$O(1)$，所以总时间复杂度是$O(n)$\n",
    "5. 借助大模型并且调试后得到如下代码"
   ]
  },
  {
   "cell_type": "code",
   "metadata": {
    "ExecuteTime": {
     "end_time": "2025-05-10T12:38:36.202080Z",
     "start_time": "2025-05-10T12:38:36.183362Z"
    }
   },
   "source": [
    "# add your idea here\n",
    "# your algorithm time complexity is: O(n)\n",
    "\n",
    "def calculate(s):\n",
    "    num_stack = []\n",
    "    current_number = 0\n",
    "    current_operator = '+'  # 初始运算符视为加号，这样可以使第一个元素默认入栈\n",
    "    \n",
    "    index = 0\n",
    "    while index < len(s):\n",
    "        char = s[index]\n",
    "        # 处理数字字符\n",
    "        if char.isdigit():\n",
    "            current_number = 0\n",
    "            while index < len(s) and s[index].isdigit():\n",
    "                current_number = current_number * 10 + int(s[index])\n",
    "                index += 1\n",
    "            index -= 1  # 回退一位，因为循环中会自动加1\n",
    "            \n",
    "            # 根据之前的运算符处理数字\n",
    "            if current_operator == '+':\n",
    "                num_stack.append(current_number)\n",
    "            elif current_operator == '-':\n",
    "                num_stack.append(-current_number)\n",
    "            elif current_operator == '*':\n",
    "                num_stack.append(num_stack.pop() * current_number)\n",
    "            elif current_operator == '/':\n",
    "                num_stack.append(int(num_stack.pop() / current_number))  # 注意整除\n",
    "        \n",
    "        # 处理运算符\n",
    "        elif char in '+-*/':\n",
    "            current_operator = char\n",
    "        \n",
    "        index += 1\n",
    "    \n",
    "    # 最终结果为栈内所有数字之和\n",
    "    return sum(num_stack)\n",
    "\n",
    "# 测试样例\n",
    "print(calculate(\"3 + 5 * 8 - 6\"))          # 输出: 37\n",
    "print(calculate(\"34 + 13 * 9 + 44 - 12 / 3\")) # 输出: 191"
   ],
   "outputs": [
    {
     "name": "stdout",
     "output_type": "stream",
     "text": [
      "37\n",
      "191\n"
     ]
    }
   ],
   "execution_count": 13
  },
  {
   "metadata": {},
   "cell_type": "markdown",
   "source": [
    "## 问题 4:  \n",
    "\n",
    "> 星球碰撞问题：现有n个星球，在同一条直线上运行，如数组A所示，元素的绝对值表示星球的质量，负数表示星球自右向左运动，正数表示星球自左向右运动，当两个星球相撞的时候，质量小的会消失，大的保持不变，**质量相同的两个星球碰撞后自右向左运动的星球消失，自左向右的星球保持不变**，假设所有星球的速度大小相同。\n",
    ">\n",
    "> $ A=[23,-8, 9, -3, -7, 9, -23, 22] $\n",
    "\n",
    "请设计一个算法模拟星球的运行情况，输出最终的星球存续情况（输出一个数组），分析算法设计思路，计算时间复杂度，并基于python编程实现。\n",
    "\n",
    "e.g.\n",
    "---\n",
    "1.  输入： A=[-3,-6,2,8, 5,-8,9,-2,1]， 输出：[-3, -6, 2, 8, 9, 1]\n",
    "\n",
    "2. 输入：A=[23,-8, 9, -3, -7, 9, -23, 22], 输出：[23, 22]\n",
    "\n"
   ]
  },
  {
   "metadata": {},
   "cell_type": "markdown",
   "source": [
    "idea:\n",
    "1. 上课老师提到了这个问题，应该利用栈来处理这个问题\n",
    "2. 如果栈非空且栈顶星球向右运动，而当前星球向左运动，则会发生碰撞。这时需要比较两颗星球的质量。如果栈顶星球质量大或者质量相等则当前星球消失。否则栈顶星球消失，将当前星球和新的栈顶星球比较方向和质量。\n",
    "3. 不碰撞或者碰撞后当前星球存活，将当前星球压入栈内。\n",
    "4. 时间复杂度分析：借助大模型，大模型告知每个星球最多出入一次栈，所以时间复杂度是$O(n)$。（看来和栈有关系的可以从出入栈的次数来考虑）"
   ]
  },
  {
   "metadata": {
    "ExecuteTime": {
     "end_time": "2025-05-10T12:38:44.382417Z",
     "start_time": "2025-05-10T12:38:44.370263Z"
    }
   },
   "cell_type": "code",
   "source": [
    "def collision(planet):\n",
    "    stack = []\n",
    "    for current in planet:\n",
    "        if_add = True  # 标记当前星球是否需要入栈\n",
    "        # 只有当栈顶星球向右且当前行星向左时才会碰撞\n",
    "        while stack and stack[-1] > 0 and current < 0:\n",
    "            top_mass = stack[-1]\n",
    "            current_mass = -current  # 当前星球的绝对值质量\n",
    "            if top_mass < current_mass:\n",
    "                # 栈顶星球质量较小，栈顶星球被摧毁\n",
    "                stack.pop()\n",
    "            else:\n",
    "                # 栈顶星球质量较大或者等于当前星球，当前星球被摧毁\n",
    "                if_add = False\n",
    "                break\n",
    "        if if_add:\n",
    "            stack.append(current)\n",
    "    return stack\n",
    "\n",
    "# test\n",
    "print(collision([-3, -6, 2, 8, 5, -8, 9, -2, 1])) \n",
    "print(collision([-23, -8, 9, -3, -7, 9, -23, 22]))"
   ],
   "outputs": [
    {
     "name": "stdout",
     "output_type": "stream",
     "text": [
      "[-3, -6, 2, 8, 9, 1]\n",
      "[-23, -8, -23, 22]\n"
     ]
    }
   ],
   "execution_count": 16
  },
  {
   "metadata": {},
   "cell_type": "markdown",
   "source": [
    "## 问题 5 \n",
    "\n",
    "> 给定一个无序数组nums=[9,-3,-10,0,9,7,33]，请建立一个二叉搜索树存储数组中的所有元素，之后删除二叉树中的元素“0”，再使用中序遍历输出二叉搜索树中的所有元素。\n",
    "\n",
    "使用python编程完成上述任务，并计算时间复杂度\n"
   ]
  },
  {
   "metadata": {},
   "cell_type": "markdown",
   "source": [
    "idea:\n",
    "1. 建立二叉搜索树：二叉搜索树是一个左侧子树比根节点元素小，右侧子树比根节点元素大的树。建立的代码在网络上已经很常见了。\n",
    "2. 删除二叉树的元素0：删除元素需要考虑该元素子树的状态：\n",
    "    1. 无子节点，直接删除\n",
    "    2. 目标节点只有一个子结点，直接用子节点代替该节点\n",
    "    3. 有两个子节点：找到左子树最大节点，用它来代替目标节点，并且删除这个节点，删除方法如前两步。（找到右子树的最小节点也可行）\n",
    "3. 中序遍历输出，这个的代码在网络上也已经很常见了\n",
    "4. 时间复杂度分析：<br>\n",
    "    建立二叉搜索树：最坏情况是$O(n^2)$，最好和平均情况是$O(nlogn)$。<br>\n",
    "    删除节点：最坏情况是$O(n)$，最好情况是$O(h)$，其中h是树高，题目没有要求是平衡二叉树，只要求了二叉搜索树，所以这个h是在logn和n之间的一个树，无法估计其数量级。但是肯定比$O(n^2)$和$O(nlogn)$都要小<br>\n",
    "   中序遍历是$O(n)$。<br>所以总时间复杂度最坏的情况下是$O(n^2)$，最好和平均情况是$O(nlogn)$"
   ]
  },
  {
   "cell_type": "code",
   "metadata": {
    "ExecuteTime": {
     "end_time": "2025-05-10T12:39:51.421379Z",
     "start_time": "2025-05-10T12:39:51.408722Z"
    }
   },
   "source": [
    "# add your idea here\n",
    "# your algorithm time complexity is:最坏的情况下是O(n^2)，最好和平均情况是O(nlogn)\n",
    "\n",
    "class TreeNode:\n",
    "    def __init__(self, val=0, left=None, right=None):\n",
    "        self.val = val\n",
    "        self.left = left\n",
    "        self.right = right\n",
    "\n",
    "def insert(root, val):\n",
    "    if not root:\n",
    "        return TreeNode(val)\n",
    "    if val < root.val:\n",
    "        root.left = insert(root.left, val)\n",
    "    else:\n",
    "        root.right = insert(root.right, val)\n",
    "    return root\n",
    "\n",
    "def deleteNode(root, key):\n",
    "    if not root:\n",
    "        return None\n",
    "    if key < root.val:\n",
    "        root.left = deleteNode(root.left, key)\n",
    "    elif key > root.val:\n",
    "        root.right = deleteNode(root.right, key)\n",
    "    else:\n",
    "        if not root.left:   # 无左子节点\n",
    "            return root.right\n",
    "        elif not root.right:  # 无右子节点\n",
    "            return root.left\n",
    "        else:  # 有两个子节点，找到左子树的最大节点\n",
    "            current = root.left\n",
    "            while current.right:\n",
    "                current = current.right\n",
    "            root.val = current.val  # 替换为左子树最大值\n",
    "            root.left = deleteNode(root.left, current.val)  # 删除原左子树最大值节点\n",
    "    return root\n",
    "\n",
    "def inorder(root):\n",
    "    res = []\n",
    "    def helper(node):\n",
    "        if node:\n",
    "            helper(node.left)\n",
    "            res.append(node.val)\n",
    "            helper(node.right)\n",
    "    helper(root)\n",
    "    return res\n",
    "\n",
    "nums = [9, -3, -10, 0, 9, 7, 33]\n",
    "root = None\n",
    "for num in nums:\n",
    "    root = insert(root, num)\n",
    "\n",
    "root = deleteNode(root, 0)\n",
    "result = inorder(root)\n",
    "print(result)"
   ],
   "outputs": [
    {
     "name": "stdout",
     "output_type": "stream",
     "text": [
      "[-10, -3, 7, 9, 9, 33]\n"
     ]
    }
   ],
   "execution_count": 19
  },
  {
   "metadata": {},
   "cell_type": "markdown",
   "source": [
    "## 问题 6  \n",
    "\n",
    "> 给定一个包含大写字母和小写字母的字符串 s ，返回 字符串包含的 **最长的回文子串的长度** 。请注意 区分大小写 。比如 \"Aa\" 不能当做一个回文字符串。\n",
    ">\n",
    "\n",
    "请设计一个算法解决上述问题，只需要输出最长回文子串的长度，分析算法设计思路，计算时间复杂度，并基于python编程实现\n",
    "\n",
    "e.g. 输入： s=\"adccaccd\"，  输出：7。 最长回文子串为：\"dccaccd\", 长度为7\n"
   ]
  },
  {
   "cell_type": "markdown",
   "metadata": {},
   "source": [
    "idea：\n",
    "我的想法是<br>\n",
    "先以第一个数为起点，最后一个数为终点，然后从首尾双向遍历，如果遍历得到了不一样的值就说明这不是一个“回文子串”。然后以第一个数为起点，倒数第二个数为终点以此类推，直到尾数和首数相等。<br>\n",
    "这之后以第二个数为起点以此类推。<br>\n",
    "换句话说是利用一个双层循环来找到所有的回文子串<br>\n",
    "记录下当前的回文子串以及之前最长的回文子串，比较后得到最长的回文子串。<br>\n",
    "1.同时如果当前可能的长度已经比最长的回文子串相等或者小，直接进入下一个循环<br>\n",
    "2.如果当前起点已经找到了一个局部极长的回文字串，跳出这个起点的比较，换句话说就是结束这个内部小循环，进入下一个大循环。<br>\n",
    "这种方法的时间复杂度很高，内外双层循环就有$O(n^2)$，每次循环时遍历又有$O(n)$，所以总时间复杂度是$O(n^3)$<br>\n",
    "借助大模型得知，最好的方法是“中心扩散法”，时间复杂度是$O(n^2)$。<br>\n",
    "以下是我的思路的代码，时间复杂度是$O(n^3)$"
   ]
  },
  {
   "cell_type": "code",
   "metadata": {
    "ExecuteTime": {
     "end_time": "2025-05-10T13:10:24.065820Z",
     "start_time": "2025-05-10T13:10:24.051877Z"
    }
   },
   "source": [
    "# add your idea here\n",
    "# your algorithm time complexity is:O(n^3)\n",
    "\n",
    "def longest_palindrome(s: str) -> (int, str):\n",
    "    n = len(s)\n",
    "    if n == 0:\n",
    "        return 0, \"\"\n",
    "    \n",
    "    max_len = 0\n",
    "    start = 0\n",
    "    end = 0\n",
    "    \n",
    "    for i in range(n):\n",
    "        for j in range(n-1, i-1, -1):\n",
    "            current_length = j - i + 1\n",
    "            # 如果当前子串长度小于已知最大长度，跳过\n",
    "            if current_length <= max_len:\n",
    "                break\n",
    "            \n",
    "            # 检查是否为回文\n",
    "            left, right = i, j\n",
    "            is_pal = True\n",
    "            while left < right:\n",
    "                if s[left] != s[right]:\n",
    "                    is_pal = False\n",
    "                    break\n",
    "                left += 1\n",
    "                right -= 1\n",
    "            \n",
    "            # 更新最长回文\n",
    "            if is_pal:\n",
    "                max_len = current_length\n",
    "                start = i\n",
    "                end = j\n",
    "                break\n",
    "    \n",
    "    # 字符均不同，输出第一个数\n",
    "    if max_len == 0:\n",
    "        return 1, s[0] if n > 0 else \"\"\n",
    "    \n",
    "    # 最终的最长回文子串\n",
    "    longest_pal = s[start:end+1]\n",
    "    return max_len, longest_pal\n",
    "\n",
    "# test\n",
    "length, palindrome = longest_palindrome(\"adccaccd\")\n",
    "print(f\"最长回文长度: {length}, 最长回文子串: '{palindrome}'\")"
   ],
   "outputs": [
    {
     "name": "stdout",
     "output_type": "stream",
     "text": [
      "最长回文长度: 7, 最长回文子串: 'dccaccd'\n"
     ]
    }
   ],
   "execution_count": 22
  },
  {
   "cell_type": "markdown",
   "metadata": {},
   "source": [
    "## 问题 7 \n",
    "\n",
    "> 沿一条长河流分散着n座房子。你可以把这条河想象成一条轴，房子是由它们在这条轴上的坐标按顺序排列的。你的公司想在河边的特定地点设置手机基站，这样每户人家都在距离基站4公里的范围内。输入可以看作为一个升序数组，数组元素的取值为大于等于0的正整数，你需要输出最小基站的数目，基站的位置。\n",
    "\n",
    "1. 给出一个时间复杂度为$O(n$) 的算法，使所使用的基站数量最小化，分析算法设计思路，使用python编程实现\n",
    "2. 证明1.中算法产生了最优解决方案。\n",
    "\n",
    "e.g. \n",
    "\n",
    "输入： [1, 5, 12, 33, 34,35]  输出：基站数目为3， 基站位置为[1，12，33]\n",
    "\n"
   ]
  },
  {
   "cell_type": "markdown",
   "metadata": {},
   "source": [
    "idea：\n",
    "1. 基站数量最小值一定，但是基站位置并不一定。\n",
    "2. 我没有什么好的想法，询问了大模型告知我这题可以采用贪心算法。也满足了题目要求的时间复杂度。\n",
    "3. 最优方案的原因：这个问题具有最优子结构。一旦确定一个节点，其他节点就可以递归得到。"
   ]
  },
  {
   "cell_type": "code",
   "metadata": {
    "ExecuteTime": {
     "end_time": "2025-05-10T13:27:59.757794Z",
     "start_time": "2025-05-10T13:27:59.746765Z"
    }
   },
   "source": [
    "# add your idea here\n",
    "# your algorithm time complexity is:O(n)\n",
    "def min_stations(houses, coverage=4):\n",
    "    n = len(houses)\n",
    "    if n == 0:\n",
    "        return 0, []\n",
    "\n",
    "    stations = []\n",
    "    i = 0\n",
    "    #选择第一个基站，应该在第一个房子刚好能够覆盖到的地方\n",
    "    #之后以当前基站覆盖不到的房子（记为房子A）为起点，再次寻找理论上能够刚好能够覆盖到A的地方\n",
    "    while i < n:\n",
    "        s = houses[i]\n",
    "        while i < n and houses[i] <= s + coverage:\n",
    "            i += 1      \n",
    "        station_pos = houses[i - 1]\n",
    "        stations.append(station_pos)       \n",
    "        while i < n and houses[i] <= station_pos + coverage:\n",
    "            i += 1\n",
    "\n",
    "    return len(stations), stations\n",
    "\n",
    "# test\n",
    "houses = [1, 5, 12, 33, 34, 35]\n",
    "num_stations, stations = min_stations(houses)\n",
    "print(f\"基站数目为{num_stations}，基站位置为{stations}\")"
   ],
   "outputs": [
    {
     "name": "stdout",
     "output_type": "stream",
     "text": [
      "基站数目为3，基站位置为[5, 12, 35]\n"
     ]
    }
   ],
   "execution_count": 24
  },
  {
   "cell_type": "markdown",
   "metadata": {},
   "source": [
    "## 问题 8  \n",
    "\n",
    "> 给定由n个正整数组成的一个集合$S = \\{a_1, a_2，···，a_n\\}$和一个正整数W，设计一个算法确定是否存在S的一个子集 $K \\subseteq S$, 使K中所有数之和为 $W$, 如果存在返回“True”，否则返回“False”\n",
    "\n",
    "请设计一个时间复杂度为$O(nW)$动态规划算法，解决上述问题，分析算法的设计思路，并且基于python编程实现（不需要输出子集）。\n",
    "\n",
    "e.g. \n",
    "\n",
    "输入：S = {1,4,7,3,5}， W = 11，输出：True。   因为K可以是{4,7}。\n",
    "\n"
   ]
  },
  {
   "cell_type": "markdown",
   "metadata": {},
   "source": [
    "idea：\n",
    "1. 这是一个动态规划问题。\n",
    "2. 我们从大的范围来看应该把复杂问题拆解为子问题。但是看细节的时候又应该从小到大。\n",
    "3. 首先应该定义一个布尔类型的数组dp，其中dp[i]表示是否存在一个子集使得W=i时成立。初始状态下只有dp[0] = True，遍历集合更新dp数组，对于每个集合中元素j，如果 dp[i] 是 True，那么 dp[i+j] 应该被设为True。"
   ]
  },
  {
   "cell_type": "code",
   "metadata": {
    "ExecuteTime": {
     "end_time": "2025-05-10T13:52:28.416942Z",
     "start_time": "2025-05-10T13:52:28.408132Z"
    }
   },
   "source": [
    "# add your idea here\n",
    "# your algorithm time complexity is: O(nW)\n",
    "\n",
    "def if_s(S, W):\n",
    "    dp = [False] * (W + 1)          #长度为W+1，均为False\n",
    "    dp[0] = True                    #但是dp[0]是True\n",
    "    for a in S:\n",
    "        # 从后向前遍历，避免重复使用同一元素\n",
    "        for w in range(W, a - 1, -1):       #比a小的元素已经确定了布尔属性\n",
    "            if dp[w - a]:\n",
    "                dp[w] = True\n",
    "    return dp[W]\n",
    "\n",
    "# 示例\n",
    "S = [1, 4, 7, 3, 5]\n",
    "W = 11\n",
    "print(if_s(S, W))"
   ],
   "outputs": [
    {
     "name": "stdout",
     "output_type": "stream",
     "text": [
      "True\n"
     ]
    }
   ],
   "execution_count": 26
  },
  {
   "cell_type": "markdown",
   "metadata": {},
   "source": [
    "\n",
    "\n",
    "## 问题 9 \n",
    "\n",
    "> 给定一个n个物品的集合。物体的重量为$w_1, w_2，…、w_n$，物品的价值分别是$v_1、v_2、…v_n$。给你**两个**重量为 $c$ 的背包。如果你带了一个东西，它可以放在一个背包里，也可以放在另一个背包里，但不能同时放在两个背包里。所有权重和价值都是正整数。\n",
    "\n",
    "1. 设计一个时间复杂度为 $O(nc^2)$ 的动态规划算法，确定可以放入两个背包的物体的最大价值。分析算法设计思路，并基于python编程实现\n",
    "2. \\* 修改1中的算法，输出每个背包的内容（物品对应下标）。\n",
    "\n",
    "e.g.: \n",
    "\n",
    "输入 V=[1,3,2,5,8,7], W=[1,3,2,5,8,7], c=7, 输出：最大价值=14，背包装的物品为：[6] [4，3] （同一个背包中物品装入顺序对结果无影响）  \n"
   ]
  },
  {
   "cell_type": "markdown",
   "metadata": {},
   "source": [
    "idea：\n",
    "真不会啊QAQ<br>\n",
    "询问大模型了。<br>\n",
    "D老师告诉我：建立一个三维数组dp[i][j][k]，其中i表示前i个物品考虑完了，j表示第一个背包当前重量，k表示第二个背包当前重量。dp[i][j][k]表示存储的是当前情况下的最大总价值。<br>初始状态下dp[0][0][0]=0，表示没有物品时，两个包价值为0<br>\n",
    "对每个物品i，状态转移有三种情况：\n",
    "1. 不选该物品：dp[i][j][k]=dp[i-1][j][k]\n",
    "2. 放入第一个背包（前提是j>=w[i-1]）：dp[i][j][k]=max(dp[i][j][k],dp[i-1][j-w[i-1]][k]+v[i-1])   #这时候已经进行了第一步“不选该物品”的操作\n",
    "3. 放入第二个背包（前提是k>=w[i-1]）：dp[i][j][k]=max(dp[i][j][k],dp[i-1][j][k-w[i-1]]+v[i-1])   #这时候已经进行了第一步和第二步"
   ]
  },
  {
   "cell_type": "code",
   "metadata": {
    "ExecuteTime": {
     "end_time": "2025-05-11T06:29:33.748693Z",
     "start_time": "2025-05-11T06:29:33.731401Z"
    }
   },
   "source": [
    "# add your idea here\n",
    "# your algorithm time complexity is: O(nc^2)\n",
    "def max_value_two_knapsacks(V, W, c):\n",
    "    n = len(V)\n",
    "    dp = [[0] * (c + 1) for _ in range(c + 1)]\n",
    "    \n",
    "    for i in range(n):\n",
    "        v, w = V[i], W[i]\n",
    "        for j in range(c, -1, -1):\n",
    "            for k in range(c, -1, -1):\n",
    "                if j >= w:\n",
    "                    dp[j][k] = max(dp[j][k], dp[j - w][k] + v)\n",
    "                if k >= w:\n",
    "                    dp[j][k] = max(dp[j][k], dp[j][k - w] + v)\n",
    "    return dp[c][c]\n",
    "\n",
    "# 示例测试\n",
    "V = [1, 3, 2, 5, 8, 7]\n",
    "W = [1, 3, 2, 5, 8, 7]\n",
    "c = 7\n",
    "print(max_value_two_knapsacks(V, W, c)) "
   ],
   "outputs": [
    {
     "name": "stdout",
     "output_type": "stream",
     "text": [
      "14\n"
     ]
    }
   ],
   "execution_count": 28
  },
  {
   "cell_type": "markdown",
   "metadata": {},
   "source": [
    "## 问题 10 \n",
    "\n",
    "> 给定两个字符串 $x[1..n]$ 和 $y[1..m]$，我们想通过以下操作将 $x$ 变换为 $y$ :\n",
    ">\n",
    "> **插入**：在 $x$ 中插入一个字符(在任何位置)；**删除**：从 $x$ 中删除一个字符(在任何位置)； **替换**：用另一个字符替换 $x$ 中的一个字符。\n",
    ">\n",
    "> 例如: $x = abcd$, $y = bcfe$，\n",
    ">\n",
    "> - 将 $x$ 转换为 $y$ 的一种可能方法是：1. 删除 $x$ 开头的 $a$, $x$变成 $bcd$； 2. 将 $x$ 中的字符 $d$ 替换为字符 $f$。$x$ 变成 $bcf$； 3. 在 $x$ 的末尾插入字符 $e$。$x$ 变成 $bcfe$。\n",
    ">\n",
    "> - 另一种可能的方法：1. 删除 $x$ 开头的 $a$,  $x$ 变成 $bcd$； 2. 在 $x$ 中字符 $d$ 之前插入字符 $f$。$x$ 变成 $bcfd$。3. 将 $x$ 中的字符 $d$ 替换为字符 $e$。$x$ 变成 $bcfe$。\n",
    "\n",
    "设计一个时间复杂度为 $O(mn)$ 的算法，返回将 $x$ 转换为 $y$ 所需的最少操作次数。分析算法设计思路，并基于python编程实现。\n"
   ]
  },
  {
   "cell_type": "markdown",
   "metadata": {},
   "source": [
    "idea：老实说我一看到这个就想到了kmp算法，但是仔细想想应该没什么关系。这题肯定还是一个动态规划的问题。<br>\n",
    "动态规划对我来说还是很吃力，我想不到什么解决方法，询问大模型了。<br>\n",
    "大模型告诉我：\n",
    "1. 定义状态：dp[i][j]表示将x的前i个字符转换为y的前j个字符所需的最小操作次数。\n",
    "2. 初始化：当 x 为空时，转换为 y 需要插入j次操作，故dp[0][j] = j。<br>\n",
    "当 y 为空时，转换为空字符串需要删除i次操作，故dp[i][0] = i。\n",
    "3. 状态转移：若 x[i−1]=y[j−1]，则不需要操作，dp[i][j] = dp[i-1][j-1]。<br>否则，取以下三种操作的最小值加一：\n",
    "<br>\n",
    "替换：dp[i-1][j-1] + 1\n",
    "<br>\n",
    "删除：dp[i-1][j] + 1\n",
    "<br>\n",
    "插入：dp[i][j-1] + 1"
   ]
  },
  {
   "cell_type": "code",
   "metadata": {
    "ExecuteTime": {
     "end_time": "2025-05-11T06:42:40.808112Z",
     "start_time": "2025-05-11T06:42:40.799074Z"
    }
   },
   "source": [
    "# add your idea here\n",
    "# your algorithm time complexity is: O(mn)\n",
    "def min_edit_distance(x, y):\n",
    "    n = len(x)\n",
    "    m = len(y)\n",
    "    dp = [[0] * (m + 1) for _ in range(n + 1)]\n",
    "    \n",
    "    # 初始化\n",
    "    for i in range(n + 1):\n",
    "        dp[i][0] = i\n",
    "    for j in range(m + 1):\n",
    "        dp[0][j] = j\n",
    "    \n",
    "    # 动态填充DP表\n",
    "    for i in range(1, n + 1):\n",
    "        for j in range(1, m + 1):\n",
    "            if x[i - 1] == y[j - 1]:\n",
    "                dp[i][j] = dp[i - 1][j - 1]\n",
    "            else:\n",
    "                dp[i][j] = 1 + min(\n",
    "                    dp[i][j - 1],    # 插入\n",
    "                    dp[i - 1][j],    # 删除\n",
    "                    dp[i - 1][j - 1] # 替换\n",
    "                )\n",
    "    return dp[n][m]\n",
    "\n",
    "# 示例测试\n",
    "x = \"abcd\"\n",
    "y = \"bcfe\"\n",
    "print(min_edit_distance(x, y))"
   ],
   "outputs": [
    {
     "name": "stdout",
     "output_type": "stream",
     "text": [
      "3\n"
     ]
    }
   ],
   "execution_count": 29
  }
 ],
 "metadata": {
  "language_info": {
   "name": "python"
  },
  "kernelspec": {
   "name": "python3",
   "language": "python",
   "display_name": "Python 3 (ipykernel)"
  }
 },
 "nbformat": 4,
 "nbformat_minor": 2
}
