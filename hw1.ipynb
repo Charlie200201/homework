{
 "cells": [
  {
   "cell_type": "markdown",
   "metadata": {},
   "source": [
    "## algorithm design and anlysis-2025 spring  homework 1 \n",
    "**Deadline**：2025.5.14\n",
    "\n",
    "**name**:\n",
    "\n",
    "\n",
    "note：\n",
    "---\n",
    "1. 带有\\*的题目，申请免上课的同学，必须完成，其他同学选作；\n",
    "2. 请独立完成，如求助了他人或者大模型，请著明，并且不可省略算法分析部分；\n",
    "4. 如若作答有雷同，全部取消成绩；\n",
    "3. 需要书面作答的题目，可以通过引用图片的形式添加，但是注意上传项目时包含所引用的图片的源文件；\n",
    "4. $log_n$ 默认表示$log_2{n}$;"
   ]
  },
  {
   "cell_type": "markdown",
   "metadata": {},
   "source": [
    "## 问题 1\n",
    "\n",
    "对于下面的每一对表达式(A, B), A是否能表示为B的 $\\Theta, \\Omega ,O$形式. 请注意, 这些关系中的零个、一个或多个可能成立。列出所有正确的。经常发生一些学生会,把指示写错, 所以请把关系写完整, 例如: $A = O(B),  A =\\Theta(B)$, 或$A = \\Omega(B)$。\n",
    "\n",
    "1. $A=n^2-100n, B=n^2$\n",
    "2. $A=logn, B=log_{1.2}n$\n",
    "3. $A=3^{2n}, B=2^{4n}$\n",
    "4. $A=2^{logn}, B=n$\n",
    "5. $A=\\log{\\log}{n},B=10^{10^{100}}$"
   ]
  },
  {
   "cell_type": "markdown",
   "metadata": {},
   "source": [
    "can refer a handwritten picture, pleas upload the picture in /fig/xxx.png\n",
    "answer:\n",
    "<div><img src=\".\\fig\\hw1a1.jpg\"/></div>"
   ]
  },
  {
   "cell_type": "markdown",
   "metadata": {},
   "source": [
    "## 问题 2：\n",
    "\n",
    "假设有函数 $f$ 和 $g$ 使得 $f(n)$ = $O(g(n))$ 对于下面的每一个陈述, 请判断对错, 如果正确请给出证明, 否则请给出一个反例。\n",
    "\n",
    "1. $\\log{f(n)}$ = $O(\\log(1+g(n)))$\n",
    "2. $3^{f(n)}=O(3^{g(n)})$\n",
    "3. $(f(n))^2=O((g(n))^2)$ "
   ]
  },
  {
   "cell_type": "markdown",
   "metadata": {},
   "source": [
    "you can refer a handwritten picture, pleas upload the picture in /fig/xxx.png\n",
    "answer:<div><img src=\".\\fig\\hw1a2.jpg\"/></div>"
   ]
  },
  {
   "cell_type": "markdown",
   "metadata": {},
   "source": [
    "## 问题 3\n",
    "\n",
    "根据下列递归公式, 计算下列 $T(n)$ 对应的的渐近上界。要求所求的边界尽可能的紧（tight）, 请写明步骤。\n",
    "\n",
    "1. $T(1)=1; T(n)=T(n/4)+1$ for $n>1$\n",
    "2. $T(1)=1;T(n)=3T(n/3)+n^2$ for $n>1$\n",
    "3. $T(1)=1;T(n)=T(2n/3)+1$ for $n>1$\n",
    "4. $T(1)=1;T(n)=5T(n/4)+n$ for $n>1$\n",
    "5. $T(n)=1 \\ for\\ n \\le 2 ; T(n)=T(\\sqrt{n})+1 \\ for \\ n>2$"
   ]
  },
  {
   "cell_type": "markdown",
   "metadata": {},
   "source": [
    "can refer a handwritten picture, pleas upload the picture in /fig/xxx.png\n",
    "answer:<div><img src=\".\\fig\\hw1a3.jpg\"/><img src=\".\\fig\\hw1a3_2.jpg\"/></div>"
   ]
  },
  {
   "cell_type": "markdown",
   "metadata": {},
   "source": [
    "## 问题 4：\n",
    "\n",
    "给定一个包含n个元素的数组 `profits` , 它的第 `i` 个元素 `profits[i]` 表示一支股票第 `i` 天的**收益**（正数表示涨, 负数表示跌）。你只能选择 **某一天** 买入这只股票, 并选择在 **未来的某一个不同的日子** 卖出该股票。\n",
    "\n",
    "1. 设计一个算法来计算你所能获取的最大利润和对应买入和卖出的日期。请分析算法方案, 计算其时间复杂度, 并且使用python编程实现该算法。\n",
    "\n",
    "2. \\* 设计一个时间复杂度为 $O(n)$的算法实现该算法\n",
    "\n",
    "e.g. :\n",
    "---\n",
    "profits=[3,2,1,-7,5,2,-1,3,-1], 第5天买入, 第8天卖出, 收益最大：9\n",
    "\n"
   ]
  },
  {
   "cell_type": "markdown",
   "metadata": {},
   "source": [
    "idea:\n",
    "我首先想到的就是最朴素的枚举法，构建一个二维的矩阵，枚举每天买入和卖出所得。但是这种方法时间复杂度很高，为$O(n^2)$。\n",
    "\n",
    "我还记得老师说过采用分治法。是把数组拆成左右两部分，计算左右的最大收益，与此同时还得考虑跨过中点的情况，具体做法应该是考虑从左侧买入最低点和右侧买入最高点，时间复杂度为$O(nlogn)$。"
   ]
  },
  {
   "cell_type": "code",
   "metadata": {
    "ExecuteTime": {
     "end_time": "2025-05-07T11:28:08.295011Z",
     "start_time": "2025-05-07T11:28:08.281979Z"
    }
   },
   "source": [
    "# add your code\n",
    "def max_profit_naive(profits):\n",
    "    n = len(profits)\n",
    "    if n < 2:\n",
    "        return -1, -1, -float('inf')  # 无法交易\n",
    "\n",
    "    # 计算前缀和\n",
    "    S = [0] * (n + 1)\n",
    "    for i in range(1, n + 1):\n",
    "        S[i] = S[i - 1] + profits[i - 1]\n",
    "\n",
    "    max_profit = -float('inf')\n",
    "    best_i = -1\n",
    "    best_j = -1\n",
    "    for i in range(1, n):  # 买入天 i (1-based)\n",
    "        for j in range(i + 1, n + 1):  # 卖出天 j (1-based)\n",
    "            current_profit = S[j] - S[i - 1]\n",
    "            if current_profit > max_profit:\n",
    "                max_profit = current_profit\n",
    "                best_i = i\n",
    "                best_j = j\n",
    "    return best_i, best_j, max_profit\n",
    "\n",
    "def max_profit_divide_and_conquer(profits, start, end):\n",
    "    if end - start < 2:\n",
    "        return -1, -1, -float('inf')  # 无法交易\n",
    "\n",
    "    mid = (start + end) // 2\n",
    "\n",
    "    # 递归计算左半部分的最大利润\n",
    "    left_i, left_j, left_max = max_profit_divide_and_conquer(profits, start, mid)\n",
    "\n",
    "    # 递归计算右半部分的最大利润\n",
    "    right_i, right_j, right_max = max_profit_divide_and_conquer(profits, mid, end)\n",
    "\n",
    "    # 计算跨越中点的最大利润\n",
    "    # 左半部分的最小前缀和（最早的买入点）\n",
    "    min_S_left = float('inf')\n",
    "    current_S = 0\n",
    "    buy_day = -1\n",
    "    for k in range(start, mid):\n",
    "        current_S += profits[k]\n",
    "        if current_S < min_S_left:\n",
    "            min_S_left = current_S\n",
    "            buy_day = k + 1  # 1-based\n",
    "\n",
    "    # 右半部分的最大后缀和（最晚的卖出点）\n",
    "    max_S_right = -float('inf')\n",
    "    current_S = 0\n",
    "    sell_day = -1\n",
    "    for k in range(mid, end):\n",
    "        current_S += profits[k]\n",
    "        if current_S > max_S_right:\n",
    "            max_S_right = current_S\n",
    "            sell_day = k + 1  # 1-based\n",
    "\n",
    "    # 跨中点利润：从buy_day到sell_day的利润\n",
    "    cross_max = 0\n",
    "    if buy_day != -1 and sell_day != -1 and buy_day < sell_day:\n",
    "        for k in range(buy_day - 1, sell_day): \n",
    "            cross_max += profits[k]\n",
    "    else:\n",
    "        cross_max = -float('inf')\n",
    "\n",
    "    # 比较三者\n",
    "    if left_max >= right_max and left_max >= cross_max:\n",
    "        return left_i, left_j, left_max\n",
    "    elif right_max >= left_max and right_max >= cross_max:\n",
    "        return right_i, right_j, right_max\n",
    "    else:\n",
    "        return buy_day, sell_day, cross_max\n",
    "\n",
    "def find_max_profit(profits):\n",
    "    # 包装函数\n",
    "    n = len(profits)\n",
    "    return max_profit_divide_and_conquer(profits, 0, n)\n",
    "\n",
    "\n",
    "profits = [3, 2, 1, -7, 5, 2, -1, 3, -1]\n",
    "\n",
    "buy_naive, sell_naive, max_profit_naive = max_profit_naive(profits)\n",
    "print(f\"Naive method: 第{buy_naive}天买入, 第{sell_naive}天卖出, 收益最大：{max_profit_naive}\")\n",
    "\n",
    "buy, sell, max_profit = find_max_profit(profits)\n",
    "print(f\"Divide and Conquer: 第{buy}天买入, 第{sell}天卖出, 收益最大：{max_profit}\")"
   ],
   "outputs": [
    {
     "name": "stdout",
     "output_type": "stream",
     "text": [
      "Naive method: 第5天买入, 第8天卖出, 收益最大：9\n",
      "Divide and Conquer: 第5天买入, 第8天卖出, 收益最大：9\n"
     ]
    }
   ],
   "execution_count": 12
  },
  {
   "cell_type": "code",
   "execution_count": null,
   "metadata": {},
   "outputs": [],
   "source": [
    "# an algorithm with O(n)"
   ]
  },
  {
   "cell_type": "markdown",
   "metadata": {},
   "source": [
    "## 问题 5：\n",
    "\n",
    "观察下方的分治算法（divide-and-conquer algorithm）的伪代码, 回答下面问题\n",
    "\n",
    "```latex\n",
    "DoSomething(A,p,r)\n",
    "-----\n",
    "n := r-p+1\n",
    "if n=2 and A[p]>A[r] then\n",
    "    swap A[p] and A[r]\n",
    "else if n >= 3 then\n",
    "    m = ceil(2n/3)\n",
    "    DoSomething(A,p,p+m-1)\n",
    "    DoSomething(A,r-m+1,r)\n",
    "    DoSomething(A,p,p+m-1)  \n",
    "    \n",
    "---\n",
    "first call: DoSomething(A,1,n)\n",
    "```\n",
    "\n",
    "note：$ceil(2n/3)=\\left\\lceil {2n/3} \\right\\rceil$；$:=$ 表示赋值, 等价于 $\\to$；A是一个包含n的整数元素的数组, \n",
    "\n",
    "1. 写出该算法时间复杂度的递归公式, 并求解其对应的渐进表示\n",
    "2. 描述一下该算法的功能, 并判断是否是最高效的解决方案\n",
    "3. 使用python编程实现上述算法或其对应的更高效版本的算法\n"
   ]
  },
  {
   "cell_type": "markdown",
   "metadata": {},
   "source": [
    "idea：\n",
    "1. 这应该是一种排序方法，最底层的想法是当数组只有两个数的时候，将数组从小到大排序。当n>=3时，计算$m=ceil(2n/3)$，并且进行递归调用。在图片中会详细计算渐进表示\n"
   ]
  },
  {
   "metadata": {},
   "cell_type": "markdown",
   "source": ""
  },
  {
   "cell_type": "markdown",
   "metadata": {},
   "source": [
    "answer:\n",
    "1. 这是一种排序算法。由第一问得出的结论，应该并非最高效率的算法。$n^{log_{3/2}2}>nlogn$，所以并没有快速排序等等方法的时间复杂度低。\n",
    "2. 下面将实现快速排序的方法"
   ]
  },
  {
   "metadata": {},
   "cell_type": "markdown",
   "source": ""
  },
  {
   "cell_type": "code",
   "metadata": {
    "ExecuteTime": {
     "end_time": "2025-05-07T12:40:37.142280Z",
     "start_time": "2025-05-07T12:40:37.124030Z"
    }
   },
   "source": [
    "# add your code here\n",
    "# your algorithm time complexity is :n*logn\n",
    "\n",
    "# add your code here\n",
    "def qsort(arr):\n",
    "    if len(arr) <= 1:\n",
    "        return arr\n",
    "    pivot = arr[len(arr) // 2]\n",
    "    left = [x for x in arr if x < pivot]\n",
    "    middle = [x for x in arr if x == pivot]\n",
    "    right = [x for x in arr if x > pivot]\n",
    "    return qsort(left) + middle + qsort(right)\n",
    "\n",
    "# 测试\n",
    "A = [1,4,1,4,2,1]\n",
    "B = qsort(A)\n",
    "print(\"原始数组：\",A)\n",
    "print(\"快速排序:\", B)"
   ],
   "outputs": [
    {
     "name": "stdout",
     "output_type": "stream",
     "text": [
      "原始数组： [1, 4, 1, 4, 2, 1]\n",
      "快速排序: [1, 1, 1, 2, 4, 4]\n"
     ]
    }
   ],
   "execution_count": 16
  },
  {
   "cell_type": "markdown",
   "metadata": {},
   "source": [
    "## 问题 6：\n",
    "\n",
    "给定一个大小为 `n` 的数组 `nums` , 返回其中的多数元素。多数元素是指在数组中出现次数 **大于** `⌊ n/2 ⌋` 的元素。\n",
    "\n",
    "你可以假设数组是非空的, 并且给定的数组总是存在多数元素。\n",
    "\n",
    "1. 设计一个算法找到给定数组的多数元素, 分析算法设计思路, 计算算法时间复杂度, 使用python编程实现\n",
    "2. \\* 设计时间复杂度为 O(n)、空间复杂度为 O(1) 的算法解决此问题, 分析算法设计思路, 使用python编程实现\n",
    "\n",
    "e.g.:\n",
    "---\n",
    "1. nums=[3,2,3], 返回3\n",
    "2. nums=[2,2,1,1,1,2,2], 返回2\n"
   ]
  },
  {
   "cell_type": "markdown",
   "metadata": {},
   "source": [
    "idea：假设数组总是非空且存在多数元素。我想到的方法是统计出所有的元素出现的次数，再将次数和$⌊n/2⌋$比较，判断多数元素是什么。\n",
    "\n",
    "根据网络上的信息，网络信息建议我采用构建散列表的方式，统计每个元素出现的次数，再遍历哈希表，找到出现次数超过$⌊n/2⌋$的元素。由于题目保证存在参数元素，找到后直接返回即可。\n",
    "\n",
    "遍历数组统计次数需要$O(n)$，遍历哈希表检查次数需要$O(n)$，故总时间复杂度为$O(n)$。"
   ]
  },
  {
   "cell_type": "code",
   "metadata": {
    "ExecuteTime": {
     "end_time": "2025-05-07T12:53:28.064440Z",
     "start_time": "2025-05-07T12:53:28.048702Z"
    }
   },
   "source": [
    "# add your code here\n",
    "# your algorithm time complexity is :O(n)\n",
    "def majorityElement(nums):\n",
    "    counts = {}\n",
    "    n = len(nums)\n",
    "    for num in nums:\n",
    "        counts[num] = counts.get(num, 0) + 1\n",
    "    for key, val in counts.items():\n",
    "        if val > n // 2:\n",
    "            return key\n",
    "        \n",
    "#测试\n",
    "A=[1,9,1,1,1,1,9,7]\n",
    "b = majorityElement(A)\n",
    "print(\"多数元素是\",b)"
   ],
   "outputs": [
    {
     "name": "stdout",
     "output_type": "stream",
     "text": [
      "多数元素是 1\n"
     ]
    }
   ],
   "execution_count": 18
  },
  {
   "cell_type": "markdown",
   "metadata": {},
   "source": [
    "idea for 2\\*："
   ]
  },
  {
   "cell_type": "code",
   "execution_count": null,
   "metadata": {},
   "outputs": [],
   "source": [
    "# algorithm time complexity：O(n), space complexity:O(1)\n",
    "# add your code here"
   ]
  },
  {
   "cell_type": "markdown",
   "metadata": {},
   "source": [
    "## 问题 7：\n",
    "\n",
    "给定一个包含不同整数元素的数组 $ A[1..n]$ ,并且满足条件：$A[1]>A[2]$ 并且 $A[n-1]<A[n]$; 规定：如果一个元素比它两边的邻居元素都小, 即：$A[x]<A[x-1], A[x]<A[x+1]$ , 称这个元素A[x]为“局部最小”。通过遍历一次数组, 我们可以很容易在 $O(n)$的时间复杂度下找到一个局部最小值, \n",
    "\n",
    "\n",
    "1. 分析该问题, 设计一个算法在$O(logn)$的时间复杂度下找到一个局部最小(返回数值), 要求：分析算法设计思路, 并且使用python编程实现\n",
    "2. \\* 设计算法找出所有局部最小值, 分析算法设计思路, 并使用python编程实现\n",
    "\n",
    "e.g.:\n",
    "---\n",
    "A=[9, 3, 7, 2, 1, 4, 5 ] 时,  局部最小元素为 3, 1\n"
   ]
  },
  {
   "cell_type": "markdown",
   "metadata": {},
   "source": [
    "idea：\n",
    "1. 题目给出条件$A[1]>A[2]$ 并且 $A[n-1]<A[n]$。根据罗尔定理，一定至少存在一个极小值。\n",
    "2. 通过遍历一遍数组，在$O(n)$时间复杂度下很容易找到一个局部最小值。\n",
    "3. 题目要求在$O(logn)$时间复杂度下找到一个局部最小值，我首先想到了出现log很有可能是出现了树状结构。而出现树状结构可能是因为采用了类似二分法等等分治的方法。\n",
    "4. 根据以上思路向AI提问，AI提示说可以每次选择中间点$mid$，如果$mid$符合直接返回。如果$mid$比左侧大说明左侧存在更小的值，应该重新调整边界为左半部分；反之同理。\n",
    "5. 但是这种方法只能找到一个局部最小值。"
   ]
  },
  {
   "cell_type": "code",
   "metadata": {
    "ExecuteTime": {
     "end_time": "2025-05-07T13:14:03.389615Z",
     "start_time": "2025-05-07T13:14:03.378614Z"
    }
   },
   "source": [
    "# add your code here\n",
    "# your algorithm time complexity is :O(logn)\n",
    "\n",
    "def find_local_min(A):\n",
    "    n = len(A)\n",
    "    left, right = 0, n - 1\n",
    "    \n",
    "    left+=1\n",
    "    right-=1\n",
    "    \n",
    "    while left <= right:\n",
    "        mid = (left + right) // 2\n",
    "        # 检查是否是局部最小值\n",
    "        if A[mid] < A[mid - 1] and A[mid] < A[mid + 1]:\n",
    "            return A[mid]\n",
    "        # 决定搜索方向\n",
    "        elif A[mid] > A[mid - 1]:\n",
    "            right = mid - 1  # 左半部分可能存在更小值\n",
    "        else:\n",
    "            left = mid + 1   # 右半部分可能存在更小值\n",
    "\n",
    "A=[9, 3, 7, 2, 1, 4, 5 ]\n",
    "b = find_local_min(A)\n",
    "\n",
    "print(\"其中一个局部极小值为\",b)"
   ],
   "outputs": [
    {
     "name": "stdout",
     "output_type": "stream",
     "text": [
      "其中一个局部极小值为 1\n"
     ]
    }
   ],
   "execution_count": 19
  },
  {
   "cell_type": "markdown",
   "metadata": {},
   "source": [
    "idea:"
   ]
  },
  {
   "cell_type": "code",
   "execution_count": null,
   "metadata": {},
   "outputs": [],
   "source": [
    "# add your code here\n",
    "# your algorithm time complexity is :"
   ]
  },
  {
   "cell_type": "markdown",
   "metadata": {},
   "source": [
    "## 问题 8：\n",
    "\n",
    "给定包含n个不同数字的一组数, 寻找一种基于比较的算法在这组数中找到k个最小的数字, 并按顺序输出它们。\n",
    "\n",
    "1. 将n个数先进行排序, 然后按顺序输出最小的k个数。要求：选择合适的排序算法实现上述操作, 计算算法时间复杂度, 并使用python编程实现。\n",
    "2. 建立一个包含这n个数的堆（heap）, 并且调用 k 次Extract-min 按顺序输出最小的k个数。使用往空堆中不断插入元素的方法建立堆, 分析这种方法建堆的时间复杂度, 并使用python编程实现\n",
    "3. \\* 假设数组中包含的数据总数目超过了计算机的存储能力, 请设计一个算法, 找到这堆数据的前k小的数值, 计算时间复杂度, 并使用python实现该算法, 假设计算机一定能存储k个数据。\n",
    "\n",
    "e.g.：\n",
    "---\n",
    "数组arr=[5,4,3,2,6,1,88,33,22,107] 的前3个最小数据为：1, 2, 3\n"
   ]
  },
  {
   "cell_type": "markdown",
   "metadata": {},
   "source": [
    "idea：\n",
    "1. 第一问先采用快速排序等等方法对数组进行升序排序，再输出排序后数组的前k个元素即可。采用快速排序时间复杂度是$O(nlogn)$，输出结果的时间复杂度是$O(k)$，所以最终时间复杂度是$O(nlogn+k)$\n",
    "2. 第二问的要求，让我知道了要求建立最小堆，然后每次都提取堆顶元素。"
   ]
  },
  {
   "cell_type": "code",
   "metadata": {
    "ExecuteTime": {
     "end_time": "2025-05-07T13:47:56.930537Z",
     "start_time": "2025-05-07T13:47:56.916990Z"
    }
   },
   "source": [
    "# add your code here\n",
    "# your algorithm time complexity is :O(nlogn+k)\n",
    "\n",
    "def qsort(arr):\n",
    "    if len(arr) <= 1:\n",
    "        return arr\n",
    "    pivot = arr[len(arr) // 2]\n",
    "    left = [x for x in arr if x < pivot]\n",
    "    middle = [x for x in arr if x == pivot]\n",
    "    right = [x for x in arr if x > pivot]\n",
    "    return qsort(left) + middle + qsort(right)\n",
    "\n",
    "def find_k_min_sort(arr, k):\n",
    "    sorted_arr = qsort(arr)\n",
    "    return sorted_arr[:k]\n",
    "\n",
    "arr=[5,4,3,2,6,1,88,33,22,107]\n",
    "k=3\n",
    "sorted_arr_min_k = find_k_min_sort(arr, k)\n",
    "print(f\"数组{arr}的前{k}个最小数据为：{', '.join(map(str, sorted_arr_min_k))}\")"
   ],
   "outputs": [
    {
     "name": "stdout",
     "output_type": "stream",
     "text": [
      "数组[5, 4, 3, 2, 6, 1, 88, 33, 22, 107]的前3个最小数据为：1, 2, 3\n"
     ]
    }
   ],
   "execution_count": 27
  },
  {
   "metadata": {
    "ExecuteTime": {
     "end_time": "2025-05-07T13:48:00.510125Z",
     "start_time": "2025-05-07T13:48:00.491459Z"
    }
   },
   "cell_type": "code",
   "source": [
    "import heapq\n",
    "\n",
    "def find_k_min_heap(arr, k):\n",
    "    heap = []\n",
    "    for num in arr:\n",
    "        heapq.heappush(heap, num)\n",
    "    return [heapq.heappop(heap) for _ in range(k)]\n",
    "\n",
    "arr=[5,4,3,2,6,1,88,33,22,107]\n",
    "k=3\n",
    "sorted_arr_min_k = find_k_min_heap(arr, k)\n",
    "print(f\"数组{arr}的前{k}个最小数据为：{', '.join(map(str, sorted_arr_min_k))}\")"
   ],
   "outputs": [
    {
     "name": "stdout",
     "output_type": "stream",
     "text": [
      "数组[5, 4, 3, 2, 6, 1, 88, 33, 22, 107]的前3个最小数据为：1, 2, 3\n"
     ]
    }
   ],
   "execution_count": 28
  },
  {
   "cell_type": "markdown",
   "metadata": {},
   "source": [
    "## 问题 9：\n",
    "\n",
    "**选择问题**:给定一个包含n个未排序值的数组A和一个$k≤n$的整数, 返回A中最小的第k项。\n",
    "\n",
    "在课堂上, 学了一个简单的O(n)随机算法来解决选择问题。事实上还有一种更复杂的最坏情况下时间复杂度为$O(n)$ 的选择算法。假设使用一个黑盒过程来实现这个O(n)选择算法: 给定一个数组A、 $p < r$ 和 k,  $BB(A, p, r, k)$ 可以在$O(r−p+ 1)$时间内找到并报告$A[p..r]$中第k小的项的下标。假设你可以在线性时间内处理Partition过程。\n",
    "\n",
    "1. 请分析如何修改 Quicksork 算法可以使其最差情况下的运行时间为 $O(nlogn)$, 使用伪代码实现, 并分析为何修改后的版本最差情况的运行时间为$O(nlogn)$\n",
    "\n",
    "note: 伪代码中, 你可以直接调用用` BB(A,p,r,k)`这个函数用于表示在最坏情况下时间复杂度为$O(n)$的选择算法；\n",
    "\n",
    "\n",
    "\n",
    "2. 找到一个更好的算法报告数组A中的前k小的项, 使用伪代码表示你的算法, 并分析你算法的时间复杂度。\n",
    "\n",
    "举例：A=[13, 3, 7, 9, 11, 1, 15, 2, 8, 10, 12, 16, 14, 5], 当k=4时, 应该报告1, 2, 3, 4\n",
    "\n",
    "note： 最直观的方法就是先将数组A排序, 然后从左向右报告其前k项, 这样操作的时间复杂度为$O(nlogn)$. 调用用` BB(A,p,r,k)`设计一个算法使其报告无序数组A的前k项, 满足时间复杂度好于$\\Theta(nlogn)$, 并且当$k=\\sqrt{n}$时, 你设计的算法时间复杂度应该为$\\Theta(n)$.\n",
    "\n",
    "\n",
    "\n",
    "3. 给定一个大小为n的数组, 找到一个 时间复杂度为$O(n log k)$ 的算法, 该算法将A中的元素重新排序, 使它们被划分为k个部分, 每个部分的元素小于或等于下一部分的元素。假设n和k都是2的幂。使用伪代码表示你的算法, 并分析时间复杂度。\n",
    "\n",
    "e.g.:\n",
    "---\n",
    "数组：[1,  3,  5,  7,  9,  11,  13,  15,  2,  4,  6,  8,  10,  12,  16,  14], k=4, \n",
    "\n",
    "对应重新排序的数组为：[1,  3,  2,  4]  [7,  6,  5,  8]  [12,  11,  10,  9]  [13,  14,  16,  15]\n",
    "\n",
    "\n"
   ]
  },
  {
   "cell_type": "markdown",
   "metadata": {},
   "source": [
    "idea：\n",
    "1. 题目比较复杂。题目假设了一个名为BB的函数可以在最坏情况下实现时间复杂度为O(n)的算法。快速排序在最坏情况下时间复杂度为O(n^2)，既然题目给出了这个BB函数就一定有它的用法。借助大模型得知可以在每次递归时的pivot上面做文章，选择中位数当作pivot，这样就不会导致分割时子问题大小不均。\n",
    "2. 排序需要O(nlogn)，所以这里不能用排序。可能的思路应该是BB函数多次调用。而且第一题提及了快速排序，可能也会和快速排序有关。我想到了或许我可以先利用BB函数找到第k小的数，然后遍历数组得到比这个数小的所有数即可。这样时间复杂度是O(n)。借助大模型，大模型提醒我还要考虑第k大的数可能不止一个，可能需要填充，不过时间复杂度仍然是O(n)。\n",
    "3. 例子的这种形式很容易让我想到多路归并排序，不过仔细一看我感觉并不是这种方法，因为这个结果是块内不一定有序，都是前面的块内部的元素一定比后面的块内部的元素小。我又想到前面两道题利用了BB函数和快速排序的思想，我想这可能是一样的要对数组进行分治策略，同时对pivot的选择也有要求。不同的是不需要和第一题的改良快速排序一样做到最底层只有一个元素，保证有k个块即可。借助大模型得到了伪代码。"
   ]
  },
  {
   "cell_type": "code",
   "execution_count": null,
   "metadata": {},
   "outputs": [],
   "source": [
    "# add your pseudo-code here\n",
    "1.\n",
    "New_QuickSort(A, p, r):\n",
    "    if p < r:\n",
    "        median_rank = (r - p + 1) // 2\n",
    "        idx = BB(A, p, r, median_rank)  // 找到中位数下标\n",
    "        swap A[idx] with A[r]           // 将中位数作为pivot\n",
    "        q = Partition(A, p, r)         // 分割数组\n",
    "        New_QuickSort(A, p, q-1)\n",
    "        New_QuickSort(A, q+1, r)\n",
    "        \n",
    "2.\n",
    "find_TopK(A, k):\n",
    "    n = length(A)\n",
    "    if k == 0:\n",
    "        return []\n",
    "    // 找到第k小元素的下标\n",
    "    idx = BB(A, 0, n-1, k)\n",
    "    x = A[idx]\n",
    "    // 收集所有小于x的元素\n",
    "    result = [num for num in A if num < x]\n",
    "    // 补充等于x的元素至k个\n",
    "    remain = k - len(result)\n",
    "    for num in A:\n",
    "        if num == x and remain > 0:\n",
    "            result.append(num)\n",
    "            remain -= 1\n",
    "    return result\n",
    "    \n",
    "3.\n",
    "ReorderK(A, p, r, m):\n",
    "    if m <= 1:\n",
    "        return\n",
    "    length = r - p + 1\n",
    "    block_size = length // m\n",
    "    target_rank = block_size * (m // 2)\n",
    "    // 找到分割点\n",
    "    idx = BB(A, p, r, target_rank)\n",
    "    x = A[idx]\n",
    "    swap A[idx] with A[r]\n",
    "    q = Partition(A, p, r)\n",
    "    // 递归处理左右部分\n",
    "    ReorderK(A, p, q-1, m // 2)\n",
    "    ReorderK(A, q+1, r, m // 2)"
   ]
  },
  {
   "cell_type": "markdown",
   "metadata": {},
   "source": [
    "## 问题 10：\n",
    "\n",
    "给定一个包含m个**字符串**的数组A, 其中不同的字符串可能有不同的字符数, 但数组中所有字符串的字符总数为n。设计一个算法在 $O(n)$ 时间内对字符串进行排序, 分析算法设计方案, 计算其时间复杂度, 并基于python编程实现该算法。请注意, 假设字符串只包含\"a\",\"b\",...,\"z\", \n",
    "\n",
    "\n",
    "\n",
    "举例1：数组A=[\"a\", \"da\", \"bde\", \"ab\", \"bc\", \"abdc\", \"cdba\"], 排序后的数组应该为：['a', 'ab', 'abdc', 'bc', 'bde', 'cdba', 'da']\n",
    "\n",
    "\n",
    "\n",
    "举例2：数组A=['ab', 'a', 'b', 'abc', 'ba', 'c'], 排序后的数组应该为：\n",
    "\n",
    "['a', 'ab', 'abc', 'b', 'ba', 'c']\n",
    "\n",
    "\n",
    "\n",
    "举例3：数组A=['aef', 'yzr', 'wr', 'ab', 'bhjc', 'lkabdc', 'pwcdba'],  排序后的数组应该为：['ab', 'aef', 'bhjc', 'lkabdc', 'pwcdba', 'wr', 'yzr']\n",
    "\n",
    "\n",
    "\n",
    "note：\n",
    "\n",
    "-  两个字符之间的比较可以考虑比较他们对应的ASCII码值；\n",
    "- python中可以使用`ord(\"a\")`返回字符 “a”对应的ASCII值"
   ]
  },
  {
   "cell_type": "markdown",
   "metadata": {},
   "source": [
    "idea:\n",
    "1. 我想到的是类似基数排序的方法。这种方法的时间复杂度应该是$O(k*n)$，其中k是字符串的最大长度，n是字符串个数。这种做法在k较小的时候是时间复杂度$O(n)$的，但是如果k很大接近于n甚至超过n的时候就超过了$O(k*n)$的时间复杂度。这让我发现或许基于排序的方法是做不到$O(n)$时间复杂度的。\n",
    "2. 查阅大模型得知，应该采用基于字典树的方式来做这道题。这种方法就可以保证时间复杂度$O(n)$。"
   ]
  },
  {
   "cell_type": "code",
   "metadata": {
    "ExecuteTime": {
     "end_time": "2025-05-08T06:52:02.403863Z",
     "start_time": "2025-05-08T06:52:02.386968Z"
    }
   },
   "source": [
    "# add your code here\n",
    "# your algorithm time complexity is :O(n)\n",
    "class TrieNode:\n",
    "    def __init__(self):\n",
    "        self.children = [None] * 26  # a-z子节点\n",
    "        self.is_end = False          # 标记是否为单词结尾\n",
    "\n",
    "def insert(root, word):\n",
    "    node = root\n",
    "    for c in word:\n",
    "        idx = ord(c) - ord('a')\n",
    "        if not node.children[idx]:\n",
    "            node.children[idx] = TrieNode()\n",
    "        node = node.children[idx]\n",
    "    node.is_end = True\n",
    "\n",
    "def traverse_trie(node, path, result):\n",
    "    if node.is_end:\n",
    "        result.append(''.join(path))\n",
    "    for i in range(26):\n",
    "        if node.children[i]:\n",
    "            path.append(chr(i + ord('a')))\n",
    "            traverse_trie(node.children[i], path, result)\n",
    "            path.pop()\n",
    "\n",
    "def sort_strings(A):\n",
    "    root = TrieNode()\n",
    "    for s in A:\n",
    "        insert(root, s)\n",
    "    result = []\n",
    "    traverse_trie(root, [], result)\n",
    "    return result\n",
    "\n",
    "# 示例测试\n",
    "A1 = ['a', 'da', 'bde', 'ab', 'bc', 'abc', 'cdba']\n",
    "print(sort_strings(A1))"
   ],
   "outputs": [
    {
     "name": "stdout",
     "output_type": "stream",
     "text": [
      "['a', 'ab', 'abc', 'bc', 'bde', 'cdba', 'da']\n"
     ]
    }
   ],
   "execution_count": 29
  }
 ],
 "metadata": {
  "language_info": {
   "name": "python"
  },
  "kernelspec": {
   "name": "python3",
   "language": "python",
   "display_name": "Python 3 (ipykernel)"
  }
 },
 "nbformat": 4,
 "nbformat_minor": 2
}
